{
  "nbformat": 4,
  "nbformat_minor": 0,
  "metadata": {
    "colab": {
      "name": "data_anz_2.ipynb",
      "provenance": [],
      "collapsed_sections": []
    },
    "kernelspec": {
      "name": "python3",
      "display_name": "Python 3"
    },
    "language_info": {
      "name": "python"
    }
  },
  "cells": [
    {
      "cell_type": "markdown",
      "metadata": {
        "id": "6-QLqjVvVxQr"
      },
      "source": [
        "# Predictive Analytics"
      ]
    },
    {
      "cell_type": "code",
      "metadata": {
        "id": "sxJho7saVO37"
      },
      "source": [
        "# Import packages for Data Wranglings\n",
        "import pandas as pd\n",
        "import numpy as np\n",
        "import seaborn as sns\n",
        "import matplotlib.pyplot as plt\n",
        "from statistics import mode\n",
        "\n",
        "# Import packages for Machine Learning\n",
        "from sklearn.model_selection import train_test_split\n",
        "from sklearn.preprocessing import OneHotEncoder, StandardScaler\n",
        "from sklearn.linear_model import LinearRegression\n",
        "from sklearn.tree import DecisionTreeRegressor\n",
        "from sklearn.compose import make_column_transformer\n",
        "from sklearn.pipeline import make_pipeline\n",
        "from sklearn.metrics import mean_squared_error"
      ],
      "execution_count": 1,
      "outputs": []
    },
    {
      "cell_type": "code",
      "metadata": {
        "colab": {
          "base_uri": "https://localhost:8080/",
          "height": 479
        },
        "id": "ovdKt9IlWTVS",
        "outputId": "b424f1cd-dfc6-41b2-b634-4bad02c64cc8"
      },
      "source": [
        "# Import data from task 1\n",
        "data = pd.read_pickle(\"/content/drive/MyDrive/ANZ/data.pkl\")\n",
        "data.head()"
      ],
      "execution_count": 2,
      "outputs": [
        {
          "output_type": "execute_result",
          "data": {
            "text/html": [
              "<div>\n",
              "<style scoped>\n",
              "    .dataframe tbody tr th:only-of-type {\n",
              "        vertical-align: middle;\n",
              "    }\n",
              "\n",
              "    .dataframe tbody tr th {\n",
              "        vertical-align: top;\n",
              "    }\n",
              "\n",
              "    .dataframe thead th {\n",
              "        text-align: right;\n",
              "    }\n",
              "</style>\n",
              "<table border=\"1\" class=\"dataframe\">\n",
              "  <thead>\n",
              "    <tr style=\"text-align: right;\">\n",
              "      <th></th>\n",
              "      <th>status</th>\n",
              "      <th>card_present_flag</th>\n",
              "      <th>account</th>\n",
              "      <th>long_lat</th>\n",
              "      <th>txn_description</th>\n",
              "      <th>merchant_id</th>\n",
              "      <th>first_name</th>\n",
              "      <th>balance</th>\n",
              "      <th>date</th>\n",
              "      <th>gender</th>\n",
              "      <th>age</th>\n",
              "      <th>merchant_suburb</th>\n",
              "      <th>merchant_state</th>\n",
              "      <th>extraction</th>\n",
              "      <th>amount</th>\n",
              "      <th>transaction_id</th>\n",
              "      <th>customer_id</th>\n",
              "      <th>merchant_long_lat</th>\n",
              "      <th>movement</th>\n",
              "      <th>month</th>\n",
              "      <th>dayofweek</th>\n",
              "      <th>hour</th>\n",
              "      <th>category</th>\n",
              "    </tr>\n",
              "  </thead>\n",
              "  <tbody>\n",
              "    <tr>\n",
              "      <th>0</th>\n",
              "      <td>authorized</td>\n",
              "      <td>1</td>\n",
              "      <td>ACC-1598451071</td>\n",
              "      <td>153.41 -27.95</td>\n",
              "      <td>POS</td>\n",
              "      <td>81c48296-73be-44a7-befa-d053f48ce7cd</td>\n",
              "      <td>Diana</td>\n",
              "      <td>35.39</td>\n",
              "      <td>2018-08-01</td>\n",
              "      <td>F</td>\n",
              "      <td>26</td>\n",
              "      <td>Ashmore</td>\n",
              "      <td>QLD</td>\n",
              "      <td>01:01:15</td>\n",
              "      <td>16.25</td>\n",
              "      <td>a623070bfead4541a6b0fff8a09e706c</td>\n",
              "      <td>CUS-2487424745</td>\n",
              "      <td>153.38 -27.99</td>\n",
              "      <td>debit</td>\n",
              "      <td>8</td>\n",
              "      <td>2</td>\n",
              "      <td>1</td>\n",
              "      <td>Purchase</td>\n",
              "    </tr>\n",
              "    <tr>\n",
              "      <th>1</th>\n",
              "      <td>authorized</td>\n",
              "      <td>0</td>\n",
              "      <td>ACC-1598451071</td>\n",
              "      <td>153.41 -27.95</td>\n",
              "      <td>SALES-POS</td>\n",
              "      <td>830a451c-316e-4a6a-bf25-e37caedca49e</td>\n",
              "      <td>Diana</td>\n",
              "      <td>21.20</td>\n",
              "      <td>2018-08-01</td>\n",
              "      <td>F</td>\n",
              "      <td>26</td>\n",
              "      <td>Sydney</td>\n",
              "      <td>NSW</td>\n",
              "      <td>01:13:45</td>\n",
              "      <td>14.19</td>\n",
              "      <td>13270a2a902145da9db4c951e04b51b9</td>\n",
              "      <td>CUS-2487424745</td>\n",
              "      <td>151.21 -33.87</td>\n",
              "      <td>debit</td>\n",
              "      <td>8</td>\n",
              "      <td>2</td>\n",
              "      <td>1</td>\n",
              "      <td>Purchase</td>\n",
              "    </tr>\n",
              "    <tr>\n",
              "      <th>2</th>\n",
              "      <td>authorized</td>\n",
              "      <td>1</td>\n",
              "      <td>ACC-1222300524</td>\n",
              "      <td>151.23 -33.94</td>\n",
              "      <td>POS</td>\n",
              "      <td>835c231d-8cdf-4e96-859d-e9d571760cf0</td>\n",
              "      <td>Michael</td>\n",
              "      <td>5.71</td>\n",
              "      <td>2018-08-01</td>\n",
              "      <td>M</td>\n",
              "      <td>38</td>\n",
              "      <td>Sydney</td>\n",
              "      <td>NSW</td>\n",
              "      <td>01:26:15</td>\n",
              "      <td>6.42</td>\n",
              "      <td>feb79e7ecd7048a5a36ec889d1a94270</td>\n",
              "      <td>CUS-2142601169</td>\n",
              "      <td>151.21 -33.87</td>\n",
              "      <td>debit</td>\n",
              "      <td>8</td>\n",
              "      <td>2</td>\n",
              "      <td>1</td>\n",
              "      <td>Purchase</td>\n",
              "    </tr>\n",
              "    <tr>\n",
              "      <th>3</th>\n",
              "      <td>authorized</td>\n",
              "      <td>1</td>\n",
              "      <td>ACC-1037050564</td>\n",
              "      <td>153.10 -27.66</td>\n",
              "      <td>SALES-POS</td>\n",
              "      <td>48514682-c78a-4a88-b0da-2d6302e64673</td>\n",
              "      <td>Rhonda</td>\n",
              "      <td>2117.22</td>\n",
              "      <td>2018-08-01</td>\n",
              "      <td>F</td>\n",
              "      <td>40</td>\n",
              "      <td>Buderim</td>\n",
              "      <td>QLD</td>\n",
              "      <td>01:38:45</td>\n",
              "      <td>40.90</td>\n",
              "      <td>2698170da3704fd981b15e64a006079e</td>\n",
              "      <td>CUS-1614226872</td>\n",
              "      <td>153.05 -26.68</td>\n",
              "      <td>debit</td>\n",
              "      <td>8</td>\n",
              "      <td>2</td>\n",
              "      <td>1</td>\n",
              "      <td>Purchase</td>\n",
              "    </tr>\n",
              "    <tr>\n",
              "      <th>4</th>\n",
              "      <td>authorized</td>\n",
              "      <td>1</td>\n",
              "      <td>ACC-1598451071</td>\n",
              "      <td>153.41 -27.95</td>\n",
              "      <td>SALES-POS</td>\n",
              "      <td>b4e02c10-0852-4273-b8fd-7b3395e32eb0</td>\n",
              "      <td>Diana</td>\n",
              "      <td>17.95</td>\n",
              "      <td>2018-08-01</td>\n",
              "      <td>F</td>\n",
              "      <td>26</td>\n",
              "      <td>Mermaid Beach</td>\n",
              "      <td>QLD</td>\n",
              "      <td>01:51:15</td>\n",
              "      <td>3.25</td>\n",
              "      <td>329adf79878c4cf0aeb4188b4691c266</td>\n",
              "      <td>CUS-2487424745</td>\n",
              "      <td>153.44 -28.06</td>\n",
              "      <td>debit</td>\n",
              "      <td>8</td>\n",
              "      <td>2</td>\n",
              "      <td>1</td>\n",
              "      <td>Purchase</td>\n",
              "    </tr>\n",
              "  </tbody>\n",
              "</table>\n",
              "</div>"
            ],
            "text/plain": [
              "       status card_present_flag         account  ... dayofweek hour  category\n",
              "0  authorized                 1  ACC-1598451071  ...         2    1  Purchase\n",
              "1  authorized                 0  ACC-1598451071  ...         2    1  Purchase\n",
              "2  authorized                 1  ACC-1222300524  ...         2    1  Purchase\n",
              "3  authorized                 1  ACC-1037050564  ...         2    1  Purchase\n",
              "4  authorized                 1  ACC-1598451071  ...         2    1  Purchase\n",
              "\n",
              "[5 rows x 23 columns]"
            ]
          },
          "metadata": {
            "tags": []
          },
          "execution_count": 2
        }
      ]
    },
    {
      "cell_type": "code",
      "metadata": {
        "colab": {
          "base_uri": "https://localhost:8080/",
          "height": 762
        },
        "id": "QZH9P2UXXIbo",
        "outputId": "4ca8a66f-1522-4149-a6c2-6e76886381c9"
      },
      "source": [
        "pd.DataFrame({\"Columns\": data.columns})"
      ],
      "execution_count": 3,
      "outputs": [
        {
          "output_type": "execute_result",
          "data": {
            "text/html": [
              "<div>\n",
              "<style scoped>\n",
              "    .dataframe tbody tr th:only-of-type {\n",
              "        vertical-align: middle;\n",
              "    }\n",
              "\n",
              "    .dataframe tbody tr th {\n",
              "        vertical-align: top;\n",
              "    }\n",
              "\n",
              "    .dataframe thead th {\n",
              "        text-align: right;\n",
              "    }\n",
              "</style>\n",
              "<table border=\"1\" class=\"dataframe\">\n",
              "  <thead>\n",
              "    <tr style=\"text-align: right;\">\n",
              "      <th></th>\n",
              "      <th>Columns</th>\n",
              "    </tr>\n",
              "  </thead>\n",
              "  <tbody>\n",
              "    <tr>\n",
              "      <th>0</th>\n",
              "      <td>status</td>\n",
              "    </tr>\n",
              "    <tr>\n",
              "      <th>1</th>\n",
              "      <td>card_present_flag</td>\n",
              "    </tr>\n",
              "    <tr>\n",
              "      <th>2</th>\n",
              "      <td>account</td>\n",
              "    </tr>\n",
              "    <tr>\n",
              "      <th>3</th>\n",
              "      <td>long_lat</td>\n",
              "    </tr>\n",
              "    <tr>\n",
              "      <th>4</th>\n",
              "      <td>txn_description</td>\n",
              "    </tr>\n",
              "    <tr>\n",
              "      <th>5</th>\n",
              "      <td>merchant_id</td>\n",
              "    </tr>\n",
              "    <tr>\n",
              "      <th>6</th>\n",
              "      <td>first_name</td>\n",
              "    </tr>\n",
              "    <tr>\n",
              "      <th>7</th>\n",
              "      <td>balance</td>\n",
              "    </tr>\n",
              "    <tr>\n",
              "      <th>8</th>\n",
              "      <td>date</td>\n",
              "    </tr>\n",
              "    <tr>\n",
              "      <th>9</th>\n",
              "      <td>gender</td>\n",
              "    </tr>\n",
              "    <tr>\n",
              "      <th>10</th>\n",
              "      <td>age</td>\n",
              "    </tr>\n",
              "    <tr>\n",
              "      <th>11</th>\n",
              "      <td>merchant_suburb</td>\n",
              "    </tr>\n",
              "    <tr>\n",
              "      <th>12</th>\n",
              "      <td>merchant_state</td>\n",
              "    </tr>\n",
              "    <tr>\n",
              "      <th>13</th>\n",
              "      <td>extraction</td>\n",
              "    </tr>\n",
              "    <tr>\n",
              "      <th>14</th>\n",
              "      <td>amount</td>\n",
              "    </tr>\n",
              "    <tr>\n",
              "      <th>15</th>\n",
              "      <td>transaction_id</td>\n",
              "    </tr>\n",
              "    <tr>\n",
              "      <th>16</th>\n",
              "      <td>customer_id</td>\n",
              "    </tr>\n",
              "    <tr>\n",
              "      <th>17</th>\n",
              "      <td>merchant_long_lat</td>\n",
              "    </tr>\n",
              "    <tr>\n",
              "      <th>18</th>\n",
              "      <td>movement</td>\n",
              "    </tr>\n",
              "    <tr>\n",
              "      <th>19</th>\n",
              "      <td>month</td>\n",
              "    </tr>\n",
              "    <tr>\n",
              "      <th>20</th>\n",
              "      <td>dayofweek</td>\n",
              "    </tr>\n",
              "    <tr>\n",
              "      <th>21</th>\n",
              "      <td>hour</td>\n",
              "    </tr>\n",
              "    <tr>\n",
              "      <th>22</th>\n",
              "      <td>category</td>\n",
              "    </tr>\n",
              "  </tbody>\n",
              "</table>\n",
              "</div>"
            ],
            "text/plain": [
              "              Columns\n",
              "0              status\n",
              "1   card_present_flag\n",
              "2             account\n",
              "3            long_lat\n",
              "4     txn_description\n",
              "5         merchant_id\n",
              "6          first_name\n",
              "7             balance\n",
              "8                date\n",
              "9              gender\n",
              "10                age\n",
              "11    merchant_suburb\n",
              "12     merchant_state\n",
              "13         extraction\n",
              "14             amount\n",
              "15     transaction_id\n",
              "16        customer_id\n",
              "17  merchant_long_lat\n",
              "18           movement\n",
              "19              month\n",
              "20          dayofweek\n",
              "21               hour\n",
              "22           category"
            ]
          },
          "metadata": {
            "tags": []
          },
          "execution_count": 3
        }
      ]
    },
    {
      "cell_type": "code",
      "metadata": {
        "colab": {
          "base_uri": "https://localhost:8080/",
          "height": 204
        },
        "id": "NV0OnS9thqNf",
        "outputId": "578dc152-6043-4c65-bea9-1ead18d8dbcd"
      },
      "source": [
        "salary_df = pd.DataFrame({\"customer_id\": data.customer_id.unique()})\n",
        "salary_df.head()"
      ],
      "execution_count": 4,
      "outputs": [
        {
          "output_type": "execute_result",
          "data": {
            "text/html": [
              "<div>\n",
              "<style scoped>\n",
              "    .dataframe tbody tr th:only-of-type {\n",
              "        vertical-align: middle;\n",
              "    }\n",
              "\n",
              "    .dataframe tbody tr th {\n",
              "        vertical-align: top;\n",
              "    }\n",
              "\n",
              "    .dataframe thead th {\n",
              "        text-align: right;\n",
              "    }\n",
              "</style>\n",
              "<table border=\"1\" class=\"dataframe\">\n",
              "  <thead>\n",
              "    <tr style=\"text-align: right;\">\n",
              "      <th></th>\n",
              "      <th>customer_id</th>\n",
              "    </tr>\n",
              "  </thead>\n",
              "  <tbody>\n",
              "    <tr>\n",
              "      <th>0</th>\n",
              "      <td>CUS-2487424745</td>\n",
              "    </tr>\n",
              "    <tr>\n",
              "      <th>1</th>\n",
              "      <td>CUS-2142601169</td>\n",
              "    </tr>\n",
              "    <tr>\n",
              "      <th>2</th>\n",
              "      <td>CUS-1614226872</td>\n",
              "    </tr>\n",
              "    <tr>\n",
              "      <th>3</th>\n",
              "      <td>CUS-2688605418</td>\n",
              "    </tr>\n",
              "    <tr>\n",
              "      <th>4</th>\n",
              "      <td>CUS-4123612273</td>\n",
              "    </tr>\n",
              "  </tbody>\n",
              "</table>\n",
              "</div>"
            ],
            "text/plain": [
              "      customer_id\n",
              "0  CUS-2487424745\n",
              "1  CUS-2142601169\n",
              "2  CUS-1614226872\n",
              "3  CUS-2688605418\n",
              "4  CUS-4123612273"
            ]
          },
          "metadata": {
            "tags": []
          },
          "execution_count": 4
        }
      ]
    },
    {
      "cell_type": "code",
      "metadata": {
        "colab": {
          "base_uri": "https://localhost:8080/",
          "height": 483
        },
        "id": "ZWmRlTpBiV8x",
        "outputId": "4bcbd25a-4e54-4e2b-eaf6-81e02f5afb7e"
      },
      "source": [
        "# Example of amount purchased by a customer, by date\n",
        "example = data.loc[(data.customer_id == salary_df.customer_id[0]) & (data.txn_description\n",
        "                   == \"PAY/SALARY\"), [\"date\", \"amount\"]].groupby(\"date\", as_index=False).sum()\n",
        "example"
      ],
      "execution_count": 5,
      "outputs": [
        {
          "output_type": "execute_result",
          "data": {
            "text/html": [
              "<div>\n",
              "<style scoped>\n",
              "    .dataframe tbody tr th:only-of-type {\n",
              "        vertical-align: middle;\n",
              "    }\n",
              "\n",
              "    .dataframe tbody tr th {\n",
              "        vertical-align: top;\n",
              "    }\n",
              "\n",
              "    .dataframe thead th {\n",
              "        text-align: right;\n",
              "    }\n",
              "</style>\n",
              "<table border=\"1\" class=\"dataframe\">\n",
              "  <thead>\n",
              "    <tr style=\"text-align: right;\">\n",
              "      <th></th>\n",
              "      <th>date</th>\n",
              "      <th>amount</th>\n",
              "    </tr>\n",
              "  </thead>\n",
              "  <tbody>\n",
              "    <tr>\n",
              "      <th>0</th>\n",
              "      <td>2018-08-01</td>\n",
              "      <td>1013.67</td>\n",
              "    </tr>\n",
              "    <tr>\n",
              "      <th>1</th>\n",
              "      <td>2018-08-08</td>\n",
              "      <td>1013.67</td>\n",
              "    </tr>\n",
              "    <tr>\n",
              "      <th>2</th>\n",
              "      <td>2018-08-15</td>\n",
              "      <td>1013.67</td>\n",
              "    </tr>\n",
              "    <tr>\n",
              "      <th>3</th>\n",
              "      <td>2018-08-22</td>\n",
              "      <td>1013.67</td>\n",
              "    </tr>\n",
              "    <tr>\n",
              "      <th>4</th>\n",
              "      <td>2018-08-29</td>\n",
              "      <td>1013.67</td>\n",
              "    </tr>\n",
              "    <tr>\n",
              "      <th>5</th>\n",
              "      <td>2018-09-05</td>\n",
              "      <td>1013.67</td>\n",
              "    </tr>\n",
              "    <tr>\n",
              "      <th>6</th>\n",
              "      <td>2018-09-12</td>\n",
              "      <td>1013.67</td>\n",
              "    </tr>\n",
              "    <tr>\n",
              "      <th>7</th>\n",
              "      <td>2018-09-19</td>\n",
              "      <td>1013.67</td>\n",
              "    </tr>\n",
              "    <tr>\n",
              "      <th>8</th>\n",
              "      <td>2018-09-26</td>\n",
              "      <td>1013.67</td>\n",
              "    </tr>\n",
              "    <tr>\n",
              "      <th>9</th>\n",
              "      <td>2018-10-03</td>\n",
              "      <td>1013.67</td>\n",
              "    </tr>\n",
              "    <tr>\n",
              "      <th>10</th>\n",
              "      <td>2018-10-10</td>\n",
              "      <td>1013.67</td>\n",
              "    </tr>\n",
              "    <tr>\n",
              "      <th>11</th>\n",
              "      <td>2018-10-17</td>\n",
              "      <td>1013.67</td>\n",
              "    </tr>\n",
              "    <tr>\n",
              "      <th>12</th>\n",
              "      <td>2018-10-24</td>\n",
              "      <td>1013.67</td>\n",
              "    </tr>\n",
              "    <tr>\n",
              "      <th>13</th>\n",
              "      <td>2018-10-31</td>\n",
              "      <td>1013.67</td>\n",
              "    </tr>\n",
              "  </tbody>\n",
              "</table>\n",
              "</div>"
            ],
            "text/plain": [
              "         date   amount\n",
              "0  2018-08-01  1013.67\n",
              "1  2018-08-08  1013.67\n",
              "2  2018-08-15  1013.67\n",
              "3  2018-08-22  1013.67\n",
              "4  2018-08-29  1013.67\n",
              "5  2018-09-05  1013.67\n",
              "6  2018-09-12  1013.67\n",
              "7  2018-09-19  1013.67\n",
              "8  2018-09-26  1013.67\n",
              "9  2018-10-03  1013.67\n",
              "10 2018-10-10  1013.67\n",
              "11 2018-10-17  1013.67\n",
              "12 2018-10-24  1013.67\n",
              "13 2018-10-31  1013.67"
            ]
          },
          "metadata": {
            "tags": []
          },
          "execution_count": 5
        }
      ]
    },
    {
      "cell_type": "code",
      "metadata": {
        "colab": {
          "base_uri": "https://localhost:8080/",
          "height": 204
        },
        "id": "f-noe7zYk6l5",
        "outputId": "9bc6a35d-a9d7-4d36-d6a3-5b26a1bf8d5a"
      },
      "source": [
        "# Loop through all salary payments for each customer\n",
        "# Assume the salary level is constant for each customer over the observed period\n",
        "df_freq = []\n",
        "df_amount = []\n",
        "\n",
        "for customer in range(len(salary_df)):\n",
        "  salary = data.loc[(data.customer_id == salary_df.customer_id\n",
        "                     [customer]) & (data.txn_description==\"PAY/SALARY\"),[\"date\",\"amount\"]].groupby(\n",
        "                         \"date\", as_index=False).sum()\n",
        "  count = len(salary)\n",
        "  if count == 0: # If count = 0, append NaN\n",
        "    df_amount.append(np.nan)\n",
        "    df_freq.append(np.nan)\n",
        "  else:\n",
        "    days_between_payments = []\n",
        "    for date in range(len(salary)-1):\n",
        "      days_between_payments.append((salary.date[date+1] - salary.date[date]).days)\n",
        "    df_freq.append(max(days_between_payments))\n",
        "    df_amount.append(mode(salary.amount)) #  mode is the value that appears most often in a set of data values\n",
        "\n",
        "# Adding df to the DataFrame\n",
        "salary_df[\"salary_freq\"] = df_freq\n",
        "salary_df[\"salary_amount\"] = df_amount\n",
        "salary_df[\"annual_salary\"] = salary_df[\"salary_amount\"] / salary_df[\"salary_freq\"] * 365.25\n",
        "salary_df.head()"
      ],
      "execution_count": 6,
      "outputs": [
        {
          "output_type": "execute_result",
          "data": {
            "text/html": [
              "<div>\n",
              "<style scoped>\n",
              "    .dataframe tbody tr th:only-of-type {\n",
              "        vertical-align: middle;\n",
              "    }\n",
              "\n",
              "    .dataframe tbody tr th {\n",
              "        vertical-align: top;\n",
              "    }\n",
              "\n",
              "    .dataframe thead th {\n",
              "        text-align: right;\n",
              "    }\n",
              "</style>\n",
              "<table border=\"1\" class=\"dataframe\">\n",
              "  <thead>\n",
              "    <tr style=\"text-align: right;\">\n",
              "      <th></th>\n",
              "      <th>customer_id</th>\n",
              "      <th>salary_freq</th>\n",
              "      <th>salary_amount</th>\n",
              "      <th>annual_salary</th>\n",
              "    </tr>\n",
              "  </thead>\n",
              "  <tbody>\n",
              "    <tr>\n",
              "      <th>0</th>\n",
              "      <td>CUS-2487424745</td>\n",
              "      <td>7</td>\n",
              "      <td>1013.67</td>\n",
              "      <td>52891.852500</td>\n",
              "    </tr>\n",
              "    <tr>\n",
              "      <th>1</th>\n",
              "      <td>CUS-2142601169</td>\n",
              "      <td>7</td>\n",
              "      <td>1002.13</td>\n",
              "      <td>52289.711786</td>\n",
              "    </tr>\n",
              "    <tr>\n",
              "      <th>2</th>\n",
              "      <td>CUS-1614226872</td>\n",
              "      <td>7</td>\n",
              "      <td>892.09</td>\n",
              "      <td>46547.981786</td>\n",
              "    </tr>\n",
              "    <tr>\n",
              "      <th>3</th>\n",
              "      <td>CUS-2688605418</td>\n",
              "      <td>14</td>\n",
              "      <td>2320.30</td>\n",
              "      <td>60534.969643</td>\n",
              "    </tr>\n",
              "    <tr>\n",
              "      <th>4</th>\n",
              "      <td>CUS-4123612273</td>\n",
              "      <td>7</td>\n",
              "      <td>1068.04</td>\n",
              "      <td>55728.801429</td>\n",
              "    </tr>\n",
              "  </tbody>\n",
              "</table>\n",
              "</div>"
            ],
            "text/plain": [
              "      customer_id  salary_freq  salary_amount  annual_salary\n",
              "0  CUS-2487424745            7        1013.67   52891.852500\n",
              "1  CUS-2142601169            7        1002.13   52289.711786\n",
              "2  CUS-1614226872            7         892.09   46547.981786\n",
              "3  CUS-2688605418           14        2320.30   60534.969643\n",
              "4  CUS-4123612273            7        1068.04   55728.801429"
            ]
          },
          "metadata": {
            "tags": []
          },
          "execution_count": 6
        }
      ]
    },
    {
      "cell_type": "code",
      "metadata": {
        "colab": {
          "base_uri": "https://localhost:8080/",
          "height": 421
        },
        "id": "NiXZtwsan9dn",
        "outputId": "df9ced8e-90e6-4149-b26e-a804ffab4230"
      },
      "source": [
        "# Plot customer's annual salary distribution\n",
        "plt.figure(figsize=(10,5))\n",
        "sns.distplot(salary_df.annual_salary)\n",
        "plt.title(\"Distribution of customers' annual salary\")\n",
        "plt.xlabel(\"Annual Salary\")"
      ],
      "execution_count": 7,
      "outputs": [
        {
          "output_type": "stream",
          "text": [
            "/usr/local/lib/python3.7/dist-packages/seaborn/distributions.py:2557: FutureWarning: `distplot` is a deprecated function and will be removed in a future version. Please adapt your code to use either `displot` (a figure-level function with similar flexibility) or `histplot` (an axes-level function for histograms).\n",
            "  warnings.warn(msg, FutureWarning)\n"
          ],
          "name": "stderr"
        },
        {
          "output_type": "execute_result",
          "data": {
            "text/plain": [
              "Text(0.5, 0, 'Annual Salary')"
            ]
          },
          "metadata": {
            "tags": []
          },
          "execution_count": 7
        },
        {
          "output_type": "display_data",
          "data": {
            "image/png": "[encoded data removed]",
            "text/plain": [
              "<Figure size 720x360 with 1 Axes>"
            ]
          },
          "metadata": {
            "tags": [],
            "needs_background": "light"
          }
        }
      ]
    },
    {
      "cell_type": "markdown",
      "metadata": {
        "id": "m6fbuQ7OqPVF"
      },
      "source": [
        "## Predictor Variables\n",
        "- Average number of weekly transactions\n",
        "- Maximum transaction amount\n",
        "- Number of large transactions (over $100)\n",
        "- Number of days with transactions\n",
        "- Average transaction amount\n",
        "- Median balance\n",
        "- State of residence"
      ]
    },
    {
      "cell_type": "code",
      "metadata": {
        "colab": {
          "base_uri": "https://localhost:8080/"
        },
        "id": "6V_H5ia1oMjt",
        "outputId": "ac4e02f8-2f81-4710-9eb2-4fb9272e5a9e"
      },
      "source": [
        "# Unique customer id\n",
        "unique_id = data.customer_id.unique()\n",
        "len(unique_id)"
      ],
      "execution_count": 8,
      "outputs": [
        {
          "output_type": "execute_result",
          "data": {
            "text/plain": [
              "100"
            ]
          },
          "metadata": {
            "tags": []
          },
          "execution_count": 8
        }
      ]
    },
    {
      "cell_type": "code",
      "metadata": {
        "colab": {
          "base_uri": "https://localhost:8080/"
        },
        "id": "WFBm06iUqfLf",
        "outputId": "726b3bf2-1a4c-4791-ed4f-28c8178e57cf"
      },
      "source": [
        "unique_id[:10]"
      ],
      "execution_count": 9,
      "outputs": [
        {
          "output_type": "execute_result",
          "data": {
            "text/plain": [
              "array(['CUS-2487424745', 'CUS-2142601169', 'CUS-1614226872',\n",
              "       'CUS-2688605418', 'CUS-4123612273', 'CUS-3026014945',\n",
              "       'CUS-2031327464', 'CUS-2317998716', 'CUS-1462656821',\n",
              "       'CUS-3142625864'], dtype=object)"
            ]
          },
          "metadata": {
            "tags": []
          },
          "execution_count": 9
        }
      ]
    },
    {
      "cell_type": "code",
      "metadata": {
        "colab": {
          "base_uri": "https://localhost:8080/"
        },
        "id": "A_L8KDI5rOjt",
        "outputId": "10746dd0-2902-4292-e1ac-566dbe4fdafa"
      },
      "source": [
        "# Average number of weekly transactions\n",
        "avg_no_weekly_trans = []\n",
        "for id_ in unique_id:\n",
        "  array = data.loc[data.customer_id == id_, \"date\"]\n",
        "  avg_no_weekly_trans.append(round(len(array)/array.nunique()*7))\n",
        "avg_no_weekly_trans[:5]"
      ],
      "execution_count": 10,
      "outputs": [
        {
          "output_type": "execute_result",
          "data": {
            "text/plain": [
              "[48, 29, 24, 14, 21]"
            ]
          },
          "metadata": {
            "tags": []
          },
          "execution_count": 10
        }
      ]
    },
    {
      "cell_type": "code",
      "metadata": {
        "colab": {
          "base_uri": "https://localhost:8080/"
        },
        "id": "uRbmJHQQreGq",
        "outputId": "585de5f5-a662-4eee-e3ff-ccca2af20919"
      },
      "source": [
        "# Maximum amount\n",
        "max_amount = []\n",
        "for id_ in unique_id:\n",
        "  array = data.loc[data.customer_id == id_, \"amount\"]\n",
        "  max_amount.append(max(array))\n",
        "max_amount[:5]"
      ],
      "execution_count": 11,
      "outputs": [
        {
          "output_type": "execute_result",
          "data": {
            "text/plain": [
              "[1452.21, 2349.55, 892.09, 2320.3, 1068.04]"
            ]
          },
          "metadata": {
            "tags": []
          },
          "execution_count": 11
        }
      ]
    },
    {
      "cell_type": "code",
      "metadata": {
        "colab": {
          "base_uri": "https://localhost:8080/"
        },
        "id": "_UdcEY4gsFnr",
        "outputId": "ecc86c92-0573-48f2-8e55-77a9fd2af0c5"
      },
      "source": [
        "# Number of large transactions\n",
        "no_large_trans = []\n",
        "for id_ in unique_id:\n",
        "  count = 0\n",
        "  array = data.loc[data.customer_id == id_, \"amount\"]\n",
        "  for amount in array:\n",
        "    if amount > 100:\n",
        "      count += 1\n",
        "  no_large_trans.append(count)\n",
        "no_large_trans[:5]"
      ],
      "execution_count": 12,
      "outputs": [
        {
          "output_type": "execute_result",
          "data": {
            "text/plain": [
              "[22, 23, 22, 25, 32]"
            ]
          },
          "metadata": {
            "tags": []
          },
          "execution_count": 12
        }
      ]
    },
    {
      "cell_type": "code",
      "metadata": {
        "colab": {
          "base_uri": "https://localhost:8080/"
        },
        "id": "GjWyK6P_sjKV",
        "outputId": "66ca3771-4851-4054-a7d6-b600ab7d4e2e"
      },
      "source": [
        "# Number of days with transactions\n",
        "no_days_with_trans = []\n",
        "for id_ in unique_id:\n",
        "  array = data.loc[data.customer_id == id_, \"date\"]\n",
        "  no_days_with_trans.append(array.nunique())\n",
        "no_days_with_trans[:5]"
      ],
      "execution_count": 13,
      "outputs": [
        {
          "output_type": "execute_result",
          "data": {
            "text/plain": [
              "[85, 74, 76, 63, 44]"
            ]
          },
          "metadata": {
            "tags": []
          },
          "execution_count": 13
        }
      ]
    },
    {
      "cell_type": "code",
      "metadata": {
        "colab": {
          "base_uri": "https://localhost:8080/"
        },
        "id": "qlo5VW0Etdjx",
        "outputId": "c86d471c-2fd0-48dd-9905-20791630c755"
      },
      "source": [
        "# Average transaction amount\n",
        "avg_trans_amount = []\n",
        "for id_ in unique_id:\n",
        "  array = data.loc[data.customer_id == id_, \"amount\"]\n",
        "  avg_trans_amount.append(array.mean())\n",
        "avg_trans_amount[:5]"
      ],
      "execution_count": 14,
      "outputs": [
        {
          "output_type": "execute_result",
          "data": {
            "text/plain": [
              "[45.34877162629756,\n",
              " 78.20610561056101,\n",
              " 74.46501930501928,\n",
              " 159.3041860465116,\n",
              " 166.50835820895517]"
            ]
          },
          "metadata": {
            "tags": []
          },
          "execution_count": 14
        }
      ]
    },
    {
      "cell_type": "code",
      "metadata": {
        "colab": {
          "base_uri": "https://localhost:8080/"
        },
        "id": "UjNyLFM-t5Tv",
        "outputId": "7c7487d5-e064-4e2c-ca19-7c8fd29d19c3"
      },
      "source": [
        "# Median balance\n",
        "median_balance = []\n",
        "for id_ in unique_id:\n",
        "  array = data.loc[data.customer_id == id_, \"balance\"]\n",
        "  median_balance.append(array.median())\n",
        "median_balance[:5]"
      ],
      "execution_count": 15,
      "outputs": [
        {
          "output_type": "execute_result",
          "data": {
            "text/plain": [
              "[1580.4, 1132.66, 3618.5, 5616.63, 6162.45]"
            ]
          },
          "metadata": {
            "tags": []
          },
          "execution_count": 15
        }
      ]
    },
    {
      "cell_type": "code",
      "metadata": {
        "colab": {
          "base_uri": "https://localhost:8080/"
        },
        "id": "GunjlAp_uCap",
        "outputId": "a33b1fa6-81db-4e1c-ab7d-61743baefde0"
      },
      "source": [
        "# State of residence\n",
        "# Assume customer live in the state where most of their transactions occured\n",
        "state = []\n",
        "for id_ in unique_id:\n",
        "  array = data.loc[data.customer_id == id_, \"merchant_state\"]\n",
        "  state.append(mode(array))\n",
        "state[:5]"
      ],
      "execution_count": 17,
      "outputs": [
        {
          "output_type": "execute_result",
          "data": {
            "text/plain": [
              "['QLD', 'NSW', 'QLD', 'NSW', 'VIC']"
            ]
          },
          "metadata": {
            "tags": []
          },
          "execution_count": 17
        }
      ]
    },
    {
      "cell_type": "code",
      "metadata": {
        "colab": {
          "base_uri": "https://localhost:8080/"
        },
        "id": "ass6rpywvBzF",
        "outputId": "4c002a57-800e-43fb-9d0c-b869172ce798"
      },
      "source": [
        "# Include age and gender from original dataframe\n",
        "age = []\n",
        "for id_ in unique_id:\n",
        "  array = data.loc[data.customer_id == id_, \"age\"]\n",
        "  age.append(mode(array))\n",
        "age[:5]"
      ],
      "execution_count": 18,
      "outputs": [
        {
          "output_type": "execute_result",
          "data": {
            "text/plain": [
              "[26, 38, 40, 20, 43]"
            ]
          },
          "metadata": {
            "tags": []
          },
          "execution_count": 18
        }
      ]
    },
    {
      "cell_type": "code",
      "metadata": {
        "colab": {
          "base_uri": "https://localhost:8080/"
        },
        "id": "d-QycQhZwPIO",
        "outputId": "9bc5fa08-8d26-44e7-de3b-5f334a7ae443"
      },
      "source": [
        "gender = []\n",
        "for id_ in unique_id:\n",
        "  array = data.loc[data.customer_id == id_, \"gender\"]\n",
        "  gender.append(mode(array))\n",
        "gender[:5]"
      ],
      "execution_count": 19,
      "outputs": [
        {
          "output_type": "execute_result",
          "data": {
            "text/plain": [
              "['F', 'M', 'F', 'M', 'F']"
            ]
          },
          "metadata": {
            "tags": []
          },
          "execution_count": 19
        }
      ]
    },
    {
      "cell_type": "markdown",
      "metadata": {
        "id": "X5AaXsbUwg3E"
      },
      "source": [
        "## Putting everything together"
      ]
    },
    {
      "cell_type": "code",
      "metadata": {
        "colab": {
          "base_uri": "https://localhost:8080/",
          "height": 204
        },
        "id": "PNz4b8-gwiEK",
        "outputId": "52ed85b8-de6d-4a2d-9f97-f3ae9e281989"
      },
      "source": [
        "# Predictor variables\n",
        "features_df = pd.DataFrame({\"customer_id\": unique_id,\n",
        "                            \"avg_no_weekly_trans\": avg_no_weekly_trans,\n",
        "                            \"max_amount\" : max_amount,\n",
        "                            \"no_large_trans\": no_large_trans,\n",
        "                            \"avg_trans_amount\": avg_trans_amount,\n",
        "                            \"median_balance\": median_balance,\n",
        "                            \"state\": state,\n",
        "                            \"age\": age,\n",
        "                            \"gender\": gender\n",
        "                            })\n",
        "features_df.head()"
      ],
      "execution_count": 20,
      "outputs": [
        {
          "output_type": "execute_result",
          "data": {
            "text/html": [
              "<div>\n",
              "<style scoped>\n",
              "    .dataframe tbody tr th:only-of-type {\n",
              "        vertical-align: middle;\n",
              "    }\n",
              "\n",
              "    .dataframe tbody tr th {\n",
              "        vertical-align: top;\n",
              "    }\n",
              "\n",
              "    .dataframe thead th {\n",
              "        text-align: right;\n",
              "    }\n",
              "</style>\n",
              "<table border=\"1\" class=\"dataframe\">\n",
              "  <thead>\n",
              "    <tr style=\"text-align: right;\">\n",
              "      <th></th>\n",
              "      <th>customer_id</th>\n",
              "      <th>avg_no_weekly_trans</th>\n",
              "      <th>max_amount</th>\n",
              "      <th>no_large_trans</th>\n",
              "      <th>avg_trans_amount</th>\n",
              "      <th>median_balance</th>\n",
              "      <th>state</th>\n",
              "      <th>age</th>\n",
              "      <th>gender</th>\n",
              "    </tr>\n",
              "  </thead>\n",
              "  <tbody>\n",
              "    <tr>\n",
              "      <th>0</th>\n",
              "      <td>CUS-2487424745</td>\n",
              "      <td>48</td>\n",
              "      <td>1452.21</td>\n",
              "      <td>22</td>\n",
              "      <td>45.348772</td>\n",
              "      <td>1580.40</td>\n",
              "      <td>QLD</td>\n",
              "      <td>26</td>\n",
              "      <td>F</td>\n",
              "    </tr>\n",
              "    <tr>\n",
              "      <th>1</th>\n",
              "      <td>CUS-2142601169</td>\n",
              "      <td>29</td>\n",
              "      <td>2349.55</td>\n",
              "      <td>23</td>\n",
              "      <td>78.206106</td>\n",
              "      <td>1132.66</td>\n",
              "      <td>NSW</td>\n",
              "      <td>38</td>\n",
              "      <td>M</td>\n",
              "    </tr>\n",
              "    <tr>\n",
              "      <th>2</th>\n",
              "      <td>CUS-1614226872</td>\n",
              "      <td>24</td>\n",
              "      <td>892.09</td>\n",
              "      <td>22</td>\n",
              "      <td>74.465019</td>\n",
              "      <td>3618.50</td>\n",
              "      <td>QLD</td>\n",
              "      <td>40</td>\n",
              "      <td>F</td>\n",
              "    </tr>\n",
              "    <tr>\n",
              "      <th>3</th>\n",
              "      <td>CUS-2688605418</td>\n",
              "      <td>14</td>\n",
              "      <td>2320.30</td>\n",
              "      <td>25</td>\n",
              "      <td>159.304186</td>\n",
              "      <td>5616.63</td>\n",
              "      <td>NSW</td>\n",
              "      <td>20</td>\n",
              "      <td>M</td>\n",
              "    </tr>\n",
              "    <tr>\n",
              "      <th>4</th>\n",
              "      <td>CUS-4123612273</td>\n",
              "      <td>21</td>\n",
              "      <td>1068.04</td>\n",
              "      <td>32</td>\n",
              "      <td>166.508358</td>\n",
              "      <td>6162.45</td>\n",
              "      <td>VIC</td>\n",
              "      <td>43</td>\n",
              "      <td>F</td>\n",
              "    </tr>\n",
              "  </tbody>\n",
              "</table>\n",
              "</div>"
            ],
            "text/plain": [
              "      customer_id  avg_no_weekly_trans  max_amount  ...  state  age  gender\n",
              "0  CUS-2487424745                   48     1452.21  ...    QLD   26       F\n",
              "1  CUS-2142601169                   29     2349.55  ...    NSW   38       M\n",
              "2  CUS-1614226872                   24      892.09  ...    QLD   40       F\n",
              "3  CUS-2688605418                   14     2320.30  ...    NSW   20       M\n",
              "4  CUS-4123612273                   21     1068.04  ...    VIC   43       F\n",
              "\n",
              "[5 rows x 9 columns]"
            ]
          },
          "metadata": {
            "tags": []
          },
          "execution_count": 20
        }
      ]
    },
    {
      "cell_type": "code",
      "metadata": {
        "colab": {
          "base_uri": "https://localhost:8080/",
          "height": 204
        },
        "id": "j38WF_X3w9CI",
        "outputId": "24556bc8-9abc-4a37-a1b4-7524302df9fa"
      },
      "source": [
        "# Target variable\n",
        "salary_df.head()"
      ],
      "execution_count": 21,
      "outputs": [
        {
          "output_type": "execute_result",
          "data": {
            "text/html": [
              "<div>\n",
              "<style scoped>\n",
              "    .dataframe tbody tr th:only-of-type {\n",
              "        vertical-align: middle;\n",
              "    }\n",
              "\n",
              "    .dataframe tbody tr th {\n",
              "        vertical-align: top;\n",
              "    }\n",
              "\n",
              "    .dataframe thead th {\n",
              "        text-align: right;\n",
              "    }\n",
              "</style>\n",
              "<table border=\"1\" class=\"dataframe\">\n",
              "  <thead>\n",
              "    <tr style=\"text-align: right;\">\n",
              "      <th></th>\n",
              "      <th>customer_id</th>\n",
              "      <th>salary_freq</th>\n",
              "      <th>salary_amount</th>\n",
              "      <th>annual_salary</th>\n",
              "    </tr>\n",
              "  </thead>\n",
              "  <tbody>\n",
              "    <tr>\n",
              "      <th>0</th>\n",
              "      <td>CUS-2487424745</td>\n",
              "      <td>7</td>\n",
              "      <td>1013.67</td>\n",
              "      <td>52891.852500</td>\n",
              "    </tr>\n",
              "    <tr>\n",
              "      <th>1</th>\n",
              "      <td>CUS-2142601169</td>\n",
              "      <td>7</td>\n",
              "      <td>1002.13</td>\n",
              "      <td>52289.711786</td>\n",
              "    </tr>\n",
              "    <tr>\n",
              "      <th>2</th>\n",
              "      <td>CUS-1614226872</td>\n",
              "      <td>7</td>\n",
              "      <td>892.09</td>\n",
              "      <td>46547.981786</td>\n",
              "    </tr>\n",
              "    <tr>\n",
              "      <th>3</th>\n",
              "      <td>CUS-2688605418</td>\n",
              "      <td>14</td>\n",
              "      <td>2320.30</td>\n",
              "      <td>60534.969643</td>\n",
              "    </tr>\n",
              "    <tr>\n",
              "      <th>4</th>\n",
              "      <td>CUS-4123612273</td>\n",
              "      <td>7</td>\n",
              "      <td>1068.04</td>\n",
              "      <td>55728.801429</td>\n",
              "    </tr>\n",
              "  </tbody>\n",
              "</table>\n",
              "</div>"
            ],
            "text/plain": [
              "      customer_id  salary_freq  salary_amount  annual_salary\n",
              "0  CUS-2487424745            7        1013.67   52891.852500\n",
              "1  CUS-2142601169            7        1002.13   52289.711786\n",
              "2  CUS-1614226872            7         892.09   46547.981786\n",
              "3  CUS-2688605418           14        2320.30   60534.969643\n",
              "4  CUS-4123612273            7        1068.04   55728.801429"
            ]
          },
          "metadata": {
            "tags": []
          },
          "execution_count": 21
        }
      ]
    },
    {
      "cell_type": "code",
      "metadata": {
        "colab": {
          "base_uri": "https://localhost:8080/",
          "height": 204
        },
        "id": "05Ufg3g1xk-5",
        "outputId": "4c62fd06-8447-481e-c404-b7c735849ac2"
      },
      "source": [
        "# Concatenate annual salary column to features dataframe\n",
        "df = pd.concat([features_df, salary_df.annual_salary], axis=1)\n",
        "df.head()"
      ],
      "execution_count": 22,
      "outputs": [
        {
          "output_type": "execute_result",
          "data": {
            "text/html": [
              "<div>\n",
              "<style scoped>\n",
              "    .dataframe tbody tr th:only-of-type {\n",
              "        vertical-align: middle;\n",
              "    }\n",
              "\n",
              "    .dataframe tbody tr th {\n",
              "        vertical-align: top;\n",
              "    }\n",
              "\n",
              "    .dataframe thead th {\n",
              "        text-align: right;\n",
              "    }\n",
              "</style>\n",
              "<table border=\"1\" class=\"dataframe\">\n",
              "  <thead>\n",
              "    <tr style=\"text-align: right;\">\n",
              "      <th></th>\n",
              "      <th>customer_id</th>\n",
              "      <th>avg_no_weekly_trans</th>\n",
              "      <th>max_amount</th>\n",
              "      <th>no_large_trans</th>\n",
              "      <th>avg_trans_amount</th>\n",
              "      <th>median_balance</th>\n",
              "      <th>state</th>\n",
              "      <th>age</th>\n",
              "      <th>gender</th>\n",
              "      <th>annual_salary</th>\n",
              "    </tr>\n",
              "  </thead>\n",
              "  <tbody>\n",
              "    <tr>\n",
              "      <th>0</th>\n",
              "      <td>CUS-2487424745</td>\n",
              "      <td>48</td>\n",
              "      <td>1452.21</td>\n",
              "      <td>22</td>\n",
              "      <td>45.348772</td>\n",
              "      <td>1580.40</td>\n",
              "      <td>QLD</td>\n",
              "      <td>26</td>\n",
              "      <td>F</td>\n",
              "      <td>52891.852500</td>\n",
              "    </tr>\n",
              "    <tr>\n",
              "      <th>1</th>\n",
              "      <td>CUS-2142601169</td>\n",
              "      <td>29</td>\n",
              "      <td>2349.55</td>\n",
              "      <td>23</td>\n",
              "      <td>78.206106</td>\n",
              "      <td>1132.66</td>\n",
              "      <td>NSW</td>\n",
              "      <td>38</td>\n",
              "      <td>M</td>\n",
              "      <td>52289.711786</td>\n",
              "    </tr>\n",
              "    <tr>\n",
              "      <th>2</th>\n",
              "      <td>CUS-1614226872</td>\n",
              "      <td>24</td>\n",
              "      <td>892.09</td>\n",
              "      <td>22</td>\n",
              "      <td>74.465019</td>\n",
              "      <td>3618.50</td>\n",
              "      <td>QLD</td>\n",
              "      <td>40</td>\n",
              "      <td>F</td>\n",
              "      <td>46547.981786</td>\n",
              "    </tr>\n",
              "    <tr>\n",
              "      <th>3</th>\n",
              "      <td>CUS-2688605418</td>\n",
              "      <td>14</td>\n",
              "      <td>2320.30</td>\n",
              "      <td>25</td>\n",
              "      <td>159.304186</td>\n",
              "      <td>5616.63</td>\n",
              "      <td>NSW</td>\n",
              "      <td>20</td>\n",
              "      <td>M</td>\n",
              "      <td>60534.969643</td>\n",
              "    </tr>\n",
              "    <tr>\n",
              "      <th>4</th>\n",
              "      <td>CUS-4123612273</td>\n",
              "      <td>21</td>\n",
              "      <td>1068.04</td>\n",
              "      <td>32</td>\n",
              "      <td>166.508358</td>\n",
              "      <td>6162.45</td>\n",
              "      <td>VIC</td>\n",
              "      <td>43</td>\n",
              "      <td>F</td>\n",
              "      <td>55728.801429</td>\n",
              "    </tr>\n",
              "  </tbody>\n",
              "</table>\n",
              "</div>"
            ],
            "text/plain": [
              "      customer_id  avg_no_weekly_trans  max_amount  ...  age  gender  annual_salary\n",
              "0  CUS-2487424745                   48     1452.21  ...   26       F   52891.852500\n",
              "1  CUS-2142601169                   29     2349.55  ...   38       M   52289.711786\n",
              "2  CUS-1614226872                   24      892.09  ...   40       F   46547.981786\n",
              "3  CUS-2688605418                   14     2320.30  ...   20       M   60534.969643\n",
              "4  CUS-4123612273                   21     1068.04  ...   43       F   55728.801429\n",
              "\n",
              "[5 rows x 10 columns]"
            ]
          },
          "metadata": {
            "tags": []
          },
          "execution_count": 22
        }
      ]
    },
    {
      "cell_type": "code",
      "metadata": {
        "colab": {
          "base_uri": "https://localhost:8080/"
        },
        "id": "pCf4-1iOxtHl",
        "outputId": "64e8a482-aa99-4faf-a232-68012b00c87e"
      },
      "source": [
        "# Check for missing values\n",
        "df.isnull().sum()"
      ],
      "execution_count": 23,
      "outputs": [
        {
          "output_type": "execute_result",
          "data": {
            "text/plain": [
              "customer_id            0\n",
              "avg_no_weekly_trans    0\n",
              "max_amount             0\n",
              "no_large_trans         0\n",
              "avg_trans_amount       0\n",
              "median_balance         0\n",
              "state                  0\n",
              "age                    0\n",
              "gender                 0\n",
              "annual_salary          0\n",
              "dtype: int64"
            ]
          },
          "metadata": {
            "tags": []
          },
          "execution_count": 23
        }
      ]
    },
    {
      "cell_type": "markdown",
      "metadata": {
        "id": "BGzIUt_fx1gb"
      },
      "source": [
        "## Preprocessing"
      ]
    },
    {
      "cell_type": "code",
      "metadata": {
        "colab": {
          "base_uri": "https://localhost:8080/"
        },
        "id": "IzD-z_Lnx2Op",
        "outputId": "73e6f095-74b4-4ef2-b535-c256f3c5fc02"
      },
      "source": [
        "# Train test split\n",
        "X = df.drop([\"customer_id\", \"annual_salary\"], axis=1)\n",
        "y = df.annual_salary\n",
        "print(\"X shape: \", X.shape)\n",
        "print(\"y shape: \", y.shape)"
      ],
      "execution_count": 24,
      "outputs": [
        {
          "output_type": "stream",
          "text": [
            "X shape:  (100, 8)\n",
            "y shape:  (100,)\n"
          ],
          "name": "stdout"
        }
      ]
    },
    {
      "cell_type": "code",
      "metadata": {
        "colab": {
          "base_uri": "https://localhost:8080/"
        },
        "id": "MBYmfQ-SyCJU",
        "outputId": "7221daa1-e2fa-47bb-b33b-fe1fcab3892a"
      },
      "source": [
        "X_train, X_test, y_train, y_test = train_test_split(X, y, test_size=0.3, random_state=42)\n",
        "\n",
        "print(\"X_train shape: \", X_train.shape)\n",
        "print(\"X_test shape: \", X_test.shape)\n",
        "print(\"y_train shape: \", y_train.shape)\n",
        "print(\"y_test shape: \", y_test.shape)"
      ],
      "execution_count": 26,
      "outputs": [
        {
          "output_type": "stream",
          "text": [
            "X_train shape:  (70, 8)\n",
            "X_test shape:  (30, 8)\n",
            "y_train shape:  (70,)\n",
            "y_test shape:  (30,)\n"
          ],
          "name": "stdout"
        }
      ]
    },
    {
      "cell_type": "code",
      "metadata": {
        "id": "NyZNefH1yTFN"
      },
      "source": [
        "# One-hot encoder and StandardScaler\n",
        "ohe = OneHotEncoder(sparse=False) # for categorical value\n",
        "scaler = StandardScaler() # for numerical value\n",
        "column_transform = make_column_transformer((ohe, [\"state\", \"gender\"]), \n",
        "                                           (scaler, [\"avg_no_weekly_trans\", \"max_amount\",\n",
        "                                                     \"no_large_trans\", \"avg_trans_amount\",\n",
        "                                                     \"median_balance\", \"age\"]))"
      ],
      "execution_count": 27,
      "outputs": []
    },
    {
      "cell_type": "markdown",
      "metadata": {
        "id": "oiTdbsNrzTn8"
      },
      "source": [
        "## Predict customer annual salary"
      ]
    },
    {
      "cell_type": "code",
      "metadata": {
        "id": "pbQzk0EbzU1D"
      },
      "source": [
        "# Linear Regression\n",
        "lm = LinearRegression()\n",
        "lm_pipeline = make_pipeline(column_transform, lm)"
      ],
      "execution_count": 28,
      "outputs": []
    },
    {
      "cell_type": "code",
      "metadata": {
        "id": "YmAGHKhZzbv-"
      },
      "source": [
        "# Fit pipeline and make predictions\n",
        "lm_pipeline.fit(X_train, y_train)\n",
        "lm_pred = lm_pipeline.predict(X_test)"
      ],
      "execution_count": 29,
      "outputs": []
    },
    {
      "cell_type": "code",
      "metadata": {
        "colab": {
          "base_uri": "https://localhost:8080/"
        },
        "id": "B5M9tegwzgcO",
        "outputId": "8bbf91bf-2f40-43bb-e821-ab16bb26783c"
      },
      "source": [
        "# RMSE\n",
        "print(\"RMSE: \", round(np.sqrt(mean_squared_error(lm_pred, y_test))))"
      ],
      "execution_count": 30,
      "outputs": [
        {
          "output_type": "stream",
          "text": [
            "RMSE:  27836\n"
          ],
          "name": "stdout"
        }
      ]
    },
    {
      "cell_type": "code",
      "metadata": {
        "id": "AkOEAqcnzlNa"
      },
      "source": [
        "# Decision Tree\n",
        "tree = DecisionTreeRegressor()\n",
        "tree_pipeline = make_pipeline(column_transform, tree)"
      ],
      "execution_count": 32,
      "outputs": []
    },
    {
      "cell_type": "code",
      "metadata": {
        "id": "AAB3EMDlzq_u"
      },
      "source": [
        "# Fit pipeline and make predictions\n",
        "tree_pipeline.fit(X_train, y_train)\n",
        "tree_pred = tree_pipeline.predict(X_test)"
      ],
      "execution_count": 33,
      "outputs": []
    },
    {
      "cell_type": "code",
      "metadata": {
        "colab": {
          "base_uri": "https://localhost:8080/"
        },
        "id": "0KFQkZaJzxyl",
        "outputId": "fc7a5246-ebef-4639-e508-91b9391287e2"
      },
      "source": [
        "# RMSE\n",
        "print(\"RMSE: \", round(np.sqrt(mean_squared_error(tree_pred, y_test))))"
      ],
      "execution_count": 34,
      "outputs": [
        {
          "output_type": "stream",
          "text": [
            "RMSE:  20566\n"
          ],
          "name": "stdout"
        }
      ]
    },
    {
      "cell_type": "code",
      "metadata": {
        "id": "IvzDHz0xz2FH"
      },
      "source": [
        ""
      ],
      "execution_count": null,
      "outputs": []
    }
  ]
}