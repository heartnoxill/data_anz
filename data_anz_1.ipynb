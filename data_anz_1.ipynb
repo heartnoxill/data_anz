{
  "nbformat": 4,
  "nbformat_minor": 0,
  "metadata": {
    "colab": {
      "name": "data_anz_1.ipynb",
      "provenance": [],
      "collapsed_sections": []
    },
    "kernelspec": {
      "name": "python3",
      "display_name": "Python 3"
    },
    "language_info": {
      "name": "python"
    }
  },
  "cells": [
    {
      "cell_type": "code",
      "metadata": {
        "id": "ehd2w4BcyXAA"
      },
      "source": [
        "import numpy as np\n",
        "import pandas as pd\n",
        "import seaborn as sns\n",
        "import matplotlib.pyplot as plt"
      ],
      "execution_count": 6,
      "outputs": []
    },
    {
      "cell_type": "markdown",
      "metadata": {
        "id": "LEuswm8831U3"
      },
      "source": [
        "## Basic Checks"
      ]
    },
    {
      "cell_type": "code",
      "metadata": {
        "colab": {
          "base_uri": "https://localhost:8080/",
          "height": 479
        },
        "id": "dWAbo67Gzja8",
        "outputId": "10ba7c9d-2319-480c-e577-94a145a74057"
      },
      "source": [
        "df = pd.read_excel(\"ANZ.xlsx\")\n",
        "df.head()"
      ],
      "execution_count": 3,
      "outputs": [
        {
          "output_type": "execute_result",
          "data": {
            "text/html": [
              "<div>\n",
              "<style scoped>\n",
              "    .dataframe tbody tr th:only-of-type {\n",
              "        vertical-align: middle;\n",
              "    }\n",
              "\n",
              "    .dataframe tbody tr th {\n",
              "        vertical-align: top;\n",
              "    }\n",
              "\n",
              "    .dataframe thead th {\n",
              "        text-align: right;\n",
              "    }\n",
              "</style>\n",
              "<table border=\"1\" class=\"dataframe\">\n",
              "  <thead>\n",
              "    <tr style=\"text-align: right;\">\n",
              "      <th></th>\n",
              "      <th>status</th>\n",
              "      <th>card_present_flag</th>\n",
              "      <th>bpay_biller_code</th>\n",
              "      <th>account</th>\n",
              "      <th>currency</th>\n",
              "      <th>long_lat</th>\n",
              "      <th>txn_description</th>\n",
              "      <th>merchant_id</th>\n",
              "      <th>merchant_code</th>\n",
              "      <th>first_name</th>\n",
              "      <th>balance</th>\n",
              "      <th>date</th>\n",
              "      <th>gender</th>\n",
              "      <th>age</th>\n",
              "      <th>merchant_suburb</th>\n",
              "      <th>merchant_state</th>\n",
              "      <th>extraction</th>\n",
              "      <th>amount</th>\n",
              "      <th>transaction_id</th>\n",
              "      <th>country</th>\n",
              "      <th>customer_id</th>\n",
              "      <th>merchant_long_lat</th>\n",
              "      <th>movement</th>\n",
              "    </tr>\n",
              "  </thead>\n",
              "  <tbody>\n",
              "    <tr>\n",
              "      <th>0</th>\n",
              "      <td>authorized</td>\n",
              "      <td>1.0</td>\n",
              "      <td>NaN</td>\n",
              "      <td>ACC-1598451071</td>\n",
              "      <td>AUD</td>\n",
              "      <td>153.41 -27.95</td>\n",
              "      <td>POS</td>\n",
              "      <td>81c48296-73be-44a7-befa-d053f48ce7cd</td>\n",
              "      <td>NaN</td>\n",
              "      <td>Diana</td>\n",
              "      <td>35.39</td>\n",
              "      <td>2018-08-01</td>\n",
              "      <td>F</td>\n",
              "      <td>26</td>\n",
              "      <td>Ashmore</td>\n",
              "      <td>QLD</td>\n",
              "      <td>2018-08-01T01:01:15.000+0000</td>\n",
              "      <td>16.25</td>\n",
              "      <td>a623070bfead4541a6b0fff8a09e706c</td>\n",
              "      <td>Australia</td>\n",
              "      <td>CUS-2487424745</td>\n",
              "      <td>153.38 -27.99</td>\n",
              "      <td>debit</td>\n",
              "    </tr>\n",
              "    <tr>\n",
              "      <th>1</th>\n",
              "      <td>authorized</td>\n",
              "      <td>0.0</td>\n",
              "      <td>NaN</td>\n",
              "      <td>ACC-1598451071</td>\n",
              "      <td>AUD</td>\n",
              "      <td>153.41 -27.95</td>\n",
              "      <td>SALES-POS</td>\n",
              "      <td>830a451c-316e-4a6a-bf25-e37caedca49e</td>\n",
              "      <td>NaN</td>\n",
              "      <td>Diana</td>\n",
              "      <td>21.20</td>\n",
              "      <td>2018-08-01</td>\n",
              "      <td>F</td>\n",
              "      <td>26</td>\n",
              "      <td>Sydney</td>\n",
              "      <td>NSW</td>\n",
              "      <td>2018-08-01T01:13:45.000+0000</td>\n",
              "      <td>14.19</td>\n",
              "      <td>13270a2a902145da9db4c951e04b51b9</td>\n",
              "      <td>Australia</td>\n",
              "      <td>CUS-2487424745</td>\n",
              "      <td>151.21 -33.87</td>\n",
              "      <td>debit</td>\n",
              "    </tr>\n",
              "    <tr>\n",
              "      <th>2</th>\n",
              "      <td>authorized</td>\n",
              "      <td>1.0</td>\n",
              "      <td>NaN</td>\n",
              "      <td>ACC-1222300524</td>\n",
              "      <td>AUD</td>\n",
              "      <td>151.23 -33.94</td>\n",
              "      <td>POS</td>\n",
              "      <td>835c231d-8cdf-4e96-859d-e9d571760cf0</td>\n",
              "      <td>NaN</td>\n",
              "      <td>Michael</td>\n",
              "      <td>5.71</td>\n",
              "      <td>2018-08-01</td>\n",
              "      <td>M</td>\n",
              "      <td>38</td>\n",
              "      <td>Sydney</td>\n",
              "      <td>NSW</td>\n",
              "      <td>2018-08-01T01:26:15.000+0000</td>\n",
              "      <td>6.42</td>\n",
              "      <td>feb79e7ecd7048a5a36ec889d1a94270</td>\n",
              "      <td>Australia</td>\n",
              "      <td>CUS-2142601169</td>\n",
              "      <td>151.21 -33.87</td>\n",
              "      <td>debit</td>\n",
              "    </tr>\n",
              "    <tr>\n",
              "      <th>3</th>\n",
              "      <td>authorized</td>\n",
              "      <td>1.0</td>\n",
              "      <td>NaN</td>\n",
              "      <td>ACC-1037050564</td>\n",
              "      <td>AUD</td>\n",
              "      <td>153.10 -27.66</td>\n",
              "      <td>SALES-POS</td>\n",
              "      <td>48514682-c78a-4a88-b0da-2d6302e64673</td>\n",
              "      <td>NaN</td>\n",
              "      <td>Rhonda</td>\n",
              "      <td>2117.22</td>\n",
              "      <td>2018-08-01</td>\n",
              "      <td>F</td>\n",
              "      <td>40</td>\n",
              "      <td>Buderim</td>\n",
              "      <td>QLD</td>\n",
              "      <td>2018-08-01T01:38:45.000+0000</td>\n",
              "      <td>40.90</td>\n",
              "      <td>2698170da3704fd981b15e64a006079e</td>\n",
              "      <td>Australia</td>\n",
              "      <td>CUS-1614226872</td>\n",
              "      <td>153.05 -26.68</td>\n",
              "      <td>debit</td>\n",
              "    </tr>\n",
              "    <tr>\n",
              "      <th>4</th>\n",
              "      <td>authorized</td>\n",
              "      <td>1.0</td>\n",
              "      <td>NaN</td>\n",
              "      <td>ACC-1598451071</td>\n",
              "      <td>AUD</td>\n",
              "      <td>153.41 -27.95</td>\n",
              "      <td>SALES-POS</td>\n",
              "      <td>b4e02c10-0852-4273-b8fd-7b3395e32eb0</td>\n",
              "      <td>NaN</td>\n",
              "      <td>Diana</td>\n",
              "      <td>17.95</td>\n",
              "      <td>2018-08-01</td>\n",
              "      <td>F</td>\n",
              "      <td>26</td>\n",
              "      <td>Mermaid Beach</td>\n",
              "      <td>QLD</td>\n",
              "      <td>2018-08-01T01:51:15.000+0000</td>\n",
              "      <td>3.25</td>\n",
              "      <td>329adf79878c4cf0aeb4188b4691c266</td>\n",
              "      <td>Australia</td>\n",
              "      <td>CUS-2487424745</td>\n",
              "      <td>153.44 -28.06</td>\n",
              "      <td>debit</td>\n",
              "    </tr>\n",
              "  </tbody>\n",
              "</table>\n",
              "</div>"
            ],
            "text/plain": [
              "       status  card_present_flag  ... merchant_long_lat movement\n",
              "0  authorized                1.0  ...     153.38 -27.99    debit\n",
              "1  authorized                0.0  ...     151.21 -33.87    debit\n",
              "2  authorized                1.0  ...     151.21 -33.87    debit\n",
              "3  authorized                1.0  ...     153.05 -26.68    debit\n",
              "4  authorized                1.0  ...     153.44 -28.06    debit\n",
              "\n",
              "[5 rows x 23 columns]"
            ]
          },
          "metadata": {
            "tags": []
          },
          "execution_count": 3
        }
      ]
    },
    {
      "cell_type": "code",
      "metadata": {
        "colab": {
          "base_uri": "https://localhost:8080/",
          "height": 204
        },
        "id": "pC_-TofPzmmU",
        "outputId": "89f22773-36db-4db8-8e61-6eeaef9ecc5c"
      },
      "source": [
        "df.describe().T"
      ],
      "execution_count": 5,
      "outputs": [
        {
          "output_type": "execute_result",
          "data": {
            "text/html": [
              "<div>\n",
              "<style scoped>\n",
              "    .dataframe tbody tr th:only-of-type {\n",
              "        vertical-align: middle;\n",
              "    }\n",
              "\n",
              "    .dataframe tbody tr th {\n",
              "        vertical-align: top;\n",
              "    }\n",
              "\n",
              "    .dataframe thead th {\n",
              "        text-align: right;\n",
              "    }\n",
              "</style>\n",
              "<table border=\"1\" class=\"dataframe\">\n",
              "  <thead>\n",
              "    <tr style=\"text-align: right;\">\n",
              "      <th></th>\n",
              "      <th>count</th>\n",
              "      <th>mean</th>\n",
              "      <th>std</th>\n",
              "      <th>min</th>\n",
              "      <th>25%</th>\n",
              "      <th>50%</th>\n",
              "      <th>75%</th>\n",
              "      <th>max</th>\n",
              "    </tr>\n",
              "  </thead>\n",
              "  <tbody>\n",
              "    <tr>\n",
              "      <th>card_present_flag</th>\n",
              "      <td>7717.0</td>\n",
              "      <td>0.802644</td>\n",
              "      <td>0.398029</td>\n",
              "      <td>0.00</td>\n",
              "      <td>1.000</td>\n",
              "      <td>1.00</td>\n",
              "      <td>1.000</td>\n",
              "      <td>1.00</td>\n",
              "    </tr>\n",
              "    <tr>\n",
              "      <th>merchant_code</th>\n",
              "      <td>883.0</td>\n",
              "      <td>0.000000</td>\n",
              "      <td>0.000000</td>\n",
              "      <td>0.00</td>\n",
              "      <td>0.000</td>\n",
              "      <td>0.00</td>\n",
              "      <td>0.000</td>\n",
              "      <td>0.00</td>\n",
              "    </tr>\n",
              "    <tr>\n",
              "      <th>balance</th>\n",
              "      <td>12043.0</td>\n",
              "      <td>14704.195553</td>\n",
              "      <td>31503.722652</td>\n",
              "      <td>0.24</td>\n",
              "      <td>3158.585</td>\n",
              "      <td>6432.01</td>\n",
              "      <td>12465.945</td>\n",
              "      <td>267128.52</td>\n",
              "    </tr>\n",
              "    <tr>\n",
              "      <th>age</th>\n",
              "      <td>12043.0</td>\n",
              "      <td>30.582330</td>\n",
              "      <td>10.046343</td>\n",
              "      <td>18.00</td>\n",
              "      <td>22.000</td>\n",
              "      <td>28.00</td>\n",
              "      <td>38.000</td>\n",
              "      <td>78.00</td>\n",
              "    </tr>\n",
              "    <tr>\n",
              "      <th>amount</th>\n",
              "      <td>12043.0</td>\n",
              "      <td>187.933588</td>\n",
              "      <td>592.599934</td>\n",
              "      <td>0.10</td>\n",
              "      <td>16.000</td>\n",
              "      <td>29.00</td>\n",
              "      <td>53.655</td>\n",
              "      <td>8835.98</td>\n",
              "    </tr>\n",
              "  </tbody>\n",
              "</table>\n",
              "</div>"
            ],
            "text/plain": [
              "                     count          mean  ...        75%        max\n",
              "card_present_flag   7717.0      0.802644  ...      1.000       1.00\n",
              "merchant_code        883.0      0.000000  ...      0.000       0.00\n",
              "balance            12043.0  14704.195553  ...  12465.945  267128.52\n",
              "age                12043.0     30.582330  ...     38.000      78.00\n",
              "amount             12043.0    187.933588  ...     53.655    8835.98\n",
              "\n",
              "[5 rows x 8 columns]"
            ]
          },
          "metadata": {
            "tags": []
          },
          "execution_count": 5
        }
      ]
    },
    {
      "cell_type": "code",
      "metadata": {
        "colab": {
          "base_uri": "https://localhost:8080/"
        },
        "id": "SIHOiK070PYX",
        "outputId": "008f3228-5bd1-424c-f254-8ef0184b3e38"
      },
      "source": [
        "df.shape"
      ],
      "execution_count": 7,
      "outputs": [
        {
          "output_type": "execute_result",
          "data": {
            "text/plain": [
              "(12043, 23)"
            ]
          },
          "metadata": {
            "tags": []
          },
          "execution_count": 7
        }
      ]
    },
    {
      "cell_type": "code",
      "metadata": {
        "colab": {
          "base_uri": "https://localhost:8080/",
          "height": 762
        },
        "id": "2v5ZJnHD09D6",
        "outputId": "9509f373-aa5c-4033-c381-783812bc4aa4"
      },
      "source": [
        "pd.DataFrame({\"Columns\":df.columns})"
      ],
      "execution_count": 8,
      "outputs": [
        {
          "output_type": "execute_result",
          "data": {
            "text/html": [
              "<div>\n",
              "<style scoped>\n",
              "    .dataframe tbody tr th:only-of-type {\n",
              "        vertical-align: middle;\n",
              "    }\n",
              "\n",
              "    .dataframe tbody tr th {\n",
              "        vertical-align: top;\n",
              "    }\n",
              "\n",
              "    .dataframe thead th {\n",
              "        text-align: right;\n",
              "    }\n",
              "</style>\n",
              "<table border=\"1\" class=\"dataframe\">\n",
              "  <thead>\n",
              "    <tr style=\"text-align: right;\">\n",
              "      <th></th>\n",
              "      <th>Columns</th>\n",
              "    </tr>\n",
              "  </thead>\n",
              "  <tbody>\n",
              "    <tr>\n",
              "      <th>0</th>\n",
              "      <td>status</td>\n",
              "    </tr>\n",
              "    <tr>\n",
              "      <th>1</th>\n",
              "      <td>card_present_flag</td>\n",
              "    </tr>\n",
              "    <tr>\n",
              "      <th>2</th>\n",
              "      <td>bpay_biller_code</td>\n",
              "    </tr>\n",
              "    <tr>\n",
              "      <th>3</th>\n",
              "      <td>account</td>\n",
              "    </tr>\n",
              "    <tr>\n",
              "      <th>4</th>\n",
              "      <td>currency</td>\n",
              "    </tr>\n",
              "    <tr>\n",
              "      <th>5</th>\n",
              "      <td>long_lat</td>\n",
              "    </tr>\n",
              "    <tr>\n",
              "      <th>6</th>\n",
              "      <td>txn_description</td>\n",
              "    </tr>\n",
              "    <tr>\n",
              "      <th>7</th>\n",
              "      <td>merchant_id</td>\n",
              "    </tr>\n",
              "    <tr>\n",
              "      <th>8</th>\n",
              "      <td>merchant_code</td>\n",
              "    </tr>\n",
              "    <tr>\n",
              "      <th>9</th>\n",
              "      <td>first_name</td>\n",
              "    </tr>\n",
              "    <tr>\n",
              "      <th>10</th>\n",
              "      <td>balance</td>\n",
              "    </tr>\n",
              "    <tr>\n",
              "      <th>11</th>\n",
              "      <td>date</td>\n",
              "    </tr>\n",
              "    <tr>\n",
              "      <th>12</th>\n",
              "      <td>gender</td>\n",
              "    </tr>\n",
              "    <tr>\n",
              "      <th>13</th>\n",
              "      <td>age</td>\n",
              "    </tr>\n",
              "    <tr>\n",
              "      <th>14</th>\n",
              "      <td>merchant_suburb</td>\n",
              "    </tr>\n",
              "    <tr>\n",
              "      <th>15</th>\n",
              "      <td>merchant_state</td>\n",
              "    </tr>\n",
              "    <tr>\n",
              "      <th>16</th>\n",
              "      <td>extraction</td>\n",
              "    </tr>\n",
              "    <tr>\n",
              "      <th>17</th>\n",
              "      <td>amount</td>\n",
              "    </tr>\n",
              "    <tr>\n",
              "      <th>18</th>\n",
              "      <td>transaction_id</td>\n",
              "    </tr>\n",
              "    <tr>\n",
              "      <th>19</th>\n",
              "      <td>country</td>\n",
              "    </tr>\n",
              "    <tr>\n",
              "      <th>20</th>\n",
              "      <td>customer_id</td>\n",
              "    </tr>\n",
              "    <tr>\n",
              "      <th>21</th>\n",
              "      <td>merchant_long_lat</td>\n",
              "    </tr>\n",
              "    <tr>\n",
              "      <th>22</th>\n",
              "      <td>movement</td>\n",
              "    </tr>\n",
              "  </tbody>\n",
              "</table>\n",
              "</div>"
            ],
            "text/plain": [
              "              Columns\n",
              "0              status\n",
              "1   card_present_flag\n",
              "2    bpay_biller_code\n",
              "3             account\n",
              "4            currency\n",
              "5            long_lat\n",
              "6     txn_description\n",
              "7         merchant_id\n",
              "8       merchant_code\n",
              "9          first_name\n",
              "10            balance\n",
              "11               date\n",
              "12             gender\n",
              "13                age\n",
              "14    merchant_suburb\n",
              "15     merchant_state\n",
              "16         extraction\n",
              "17             amount\n",
              "18     transaction_id\n",
              "19            country\n",
              "20        customer_id\n",
              "21  merchant_long_lat\n",
              "22           movement"
            ]
          },
          "metadata": {
            "tags": []
          },
          "execution_count": 8
        }
      ]
    },
    {
      "cell_type": "code",
      "metadata": {
        "colab": {
          "base_uri": "https://localhost:8080/"
        },
        "id": "Yekp-1re1CVK",
        "outputId": "b502962c-27c0-4370-c39d-8a3f48d9d6c1"
      },
      "source": [
        "print(\"Unique costomer ID number: \", df.customer_id.nunique())"
      ],
      "execution_count": 10,
      "outputs": [
        {
          "output_type": "stream",
          "text": [
            "Unique costomer ID number:  100\n"
          ],
          "name": "stdout"
        }
      ]
    },
    {
      "cell_type": "code",
      "metadata": {
        "colab": {
          "base_uri": "https://localhost:8080/"
        },
        "id": "6S4S5YNT1t1l",
        "outputId": "872b3334-8e3f-41be-c125-988f875bdd1a"
      },
      "source": [
        "print(\"Dataset rows number: \", len(df))\n",
        "print(\"Unique transaction ID number: \", df.transaction_id.nunique())"
      ],
      "execution_count": 11,
      "outputs": [
        {
          "output_type": "stream",
          "text": [
            "Dataset rows number:  12043\n",
            "Unique transaction ID number:  12043\n"
          ],
          "name": "stdout"
        }
      ]
    },
    {
      "cell_type": "code",
      "metadata": {
        "colab": {
          "base_uri": "https://localhost:8080/"
        },
        "id": "jw_KmK4h151T",
        "outputId": "ddfa5e59-3150-46d0-f57d-61763aba6f4d"
      },
      "source": [
        "df.date.describe()\n",
        "# first 2018-08-01, last 2018-10-31 (about 3 months)"
      ],
      "execution_count": 12,
      "outputs": [
        {
          "output_type": "stream",
          "text": [
            "/usr/local/lib/python3.7/dist-packages/ipykernel_launcher.py:1: FutureWarning: Treating datetime data as categorical rather than numeric in `.describe` is deprecated and will be removed in a future version of pandas. Specify `datetime_is_numeric=True` to silence this warning and adopt the future behavior now.\n",
            "  \"\"\"Entry point for launching an IPython kernel.\n"
          ],
          "name": "stderr"
        },
        {
          "output_type": "execute_result",
          "data": {
            "text/plain": [
              "count                   12043\n",
              "unique                     91\n",
              "top       2018-09-28 00:00:00\n",
              "freq                      174\n",
              "first     2018-08-01 00:00:00\n",
              "last      2018-10-31 00:00:00\n",
              "Name: date, dtype: object"
            ]
          },
          "metadata": {
            "tags": []
          },
          "execution_count": 12
        }
      ]
    },
    {
      "cell_type": "code",
      "metadata": {
        "colab": {
          "base_uri": "https://localhost:8080/"
        },
        "id": "-iKAO96w1_J4",
        "outputId": "4d2a3ce0-3c64-4705-820c-b711bae70df0"
      },
      "source": [
        "# Find missing date\n",
        "pd.date_range(start = \"2018-08-01\", end = \"2018-10-31\").difference(df.date)\n",
        "# One missing date on 2018-08-16\n",
        "# Q: Why data is missing on that date, system error?, holiday?"
      ],
      "execution_count": 13,
      "outputs": [
        {
          "output_type": "execute_result",
          "data": {
            "text/plain": [
              "DatetimeIndex(['2018-08-16'], dtype='datetime64[ns]', freq=None)"
            ]
          },
          "metadata": {
            "tags": []
          },
          "execution_count": 13
        }
      ]
    },
    {
      "cell_type": "code",
      "metadata": {
        "colab": {
          "base_uri": "https://localhost:8080/"
        },
        "id": "SPMKjNsc2l-A",
        "outputId": "e8b3c351-b37a-4f49-eb3c-cdaf1dd27870"
      },
      "source": [
        "# Non-Null Count and Dtype\n",
        "df.info()"
      ],
      "execution_count": 14,
      "outputs": [
        {
          "output_type": "stream",
          "text": [
            "<class 'pandas.core.frame.DataFrame'>\n",
            "RangeIndex: 12043 entries, 0 to 12042\n",
            "Data columns (total 23 columns):\n",
            " #   Column             Non-Null Count  Dtype         \n",
            "---  ------             --------------  -----         \n",
            " 0   status             12043 non-null  object        \n",
            " 1   card_present_flag  7717 non-null   float64       \n",
            " 2   bpay_biller_code   885 non-null    object        \n",
            " 3   account            12043 non-null  object        \n",
            " 4   currency           12043 non-null  object        \n",
            " 5   long_lat           12043 non-null  object        \n",
            " 6   txn_description    12043 non-null  object        \n",
            " 7   merchant_id        7717 non-null   object        \n",
            " 8   merchant_code      883 non-null    float64       \n",
            " 9   first_name         12043 non-null  object        \n",
            " 10  balance            12043 non-null  float64       \n",
            " 11  date               12043 non-null  datetime64[ns]\n",
            " 12  gender             12043 non-null  object        \n",
            " 13  age                12043 non-null  int64         \n",
            " 14  merchant_suburb    7717 non-null   object        \n",
            " 15  merchant_state     7717 non-null   object        \n",
            " 16  extraction         12043 non-null  object        \n",
            " 17  amount             12043 non-null  float64       \n",
            " 18  transaction_id     12043 non-null  object        \n",
            " 19  country            12043 non-null  object        \n",
            " 20  customer_id        12043 non-null  object        \n",
            " 21  merchant_long_lat  7717 non-null   object        \n",
            " 22  movement           12043 non-null  object        \n",
            "dtypes: datetime64[ns](1), float64(4), int64(1), object(17)\n",
            "memory usage: 2.1+ MB\n"
          ],
          "name": "stdout"
        }
      ]
    },
    {
      "cell_type": "code",
      "metadata": {
        "colab": {
          "base_uri": "https://localhost:8080/"
        },
        "id": "0yeQpDMW2tvu",
        "outputId": "06c401fc-33cf-4e71-a570-80bfb803598c"
      },
      "source": [
        "print(\"Null value in each column\")\n",
        "print(df.isnull().sum())"
      ],
      "execution_count": 16,
      "outputs": [
        {
          "output_type": "stream",
          "text": [
            "Null value in each column\n",
            "status                   0\n",
            "card_present_flag     4326\n",
            "bpay_biller_code     11158\n",
            "account                  0\n",
            "currency                 0\n",
            "long_lat                 0\n",
            "txn_description          0\n",
            "merchant_id           4326\n",
            "merchant_code        11160\n",
            "first_name               0\n",
            "balance                  0\n",
            "date                     0\n",
            "gender                   0\n",
            "age                      0\n",
            "merchant_suburb       4326\n",
            "merchant_state        4326\n",
            "extraction               0\n",
            "amount                   0\n",
            "transaction_id           0\n",
            "country                  0\n",
            "customer_id              0\n",
            "merchant_long_lat     4326\n",
            "movement                 0\n",
            "dtype: int64\n"
          ],
          "name": "stdout"
        }
      ]
    },
    {
      "cell_type": "markdown",
      "metadata": {
        "id": "-SIuGdWQ33i1"
      },
      "source": [
        "## EDA\n",
        "skip merely identifiers\n",
        "- bpay_biller_code\n",
        "- account\n",
        "- merchant_id\n",
        "- merchant_code\n",
        "- first_name\n",
        "- transaction_id\n",
        "- customer_id"
      ]
    },
    {
      "cell_type": "code",
      "metadata": {
        "colab": {
          "base_uri": "https://localhost:8080/"
        },
        "id": "WPSWFYEw3FB_",
        "outputId": "8f770915-1ea7-42bf-f347-23975b0d6b9e"
      },
      "source": [
        "# Status\n",
        "df.status.value_counts(dropna=False)"
      ],
      "execution_count": 18,
      "outputs": [
        {
          "output_type": "execute_result",
          "data": {
            "text/plain": [
              "authorized    7717\n",
              "posted        4326\n",
              "Name: status, dtype: int64"
            ]
          },
          "metadata": {
            "tags": []
          },
          "execution_count": 18
        }
      ]
    },
    {
      "cell_type": "code",
      "metadata": {
        "colab": {
          "base_uri": "https://localhost:8080/"
        },
        "id": "x4Gp07tg40vU",
        "outputId": "a2afcd2a-d8c0-4b98-db56-2c1ca9f204b3"
      },
      "source": [
        "# Card present flag\n",
        "df.card_present_flag.value_counts(dropna=False)"
      ],
      "execution_count": 19,
      "outputs": [
        {
          "output_type": "execute_result",
          "data": {
            "text/plain": [
              "1.0    6194\n",
              "NaN    4326\n",
              "0.0    1523\n",
              "Name: card_present_flag, dtype: int64"
            ]
          },
          "metadata": {
            "tags": []
          },
          "execution_count": 19
        }
      ]
    },
    {
      "cell_type": "code",
      "metadata": {
        "colab": {
          "base_uri": "https://localhost:8080/"
        },
        "id": "Yr9-l9L-482z",
        "outputId": "45aebfda-1718-4c5b-c9dd-09a264a2ae3e"
      },
      "source": [
        "# currency\n",
        "df.currency.value_counts(dropna=False)\n",
        "# All transactions are in AUD (maybe drop this column)"
      ],
      "execution_count": 20,
      "outputs": [
        {
          "output_type": "execute_result",
          "data": {
            "text/plain": [
              "AUD    12043\n",
              "Name: currency, dtype: int64"
            ]
          },
          "metadata": {
            "tags": []
          },
          "execution_count": 20
        }
      ]
    },
    {
      "cell_type": "code",
      "metadata": {
        "colab": {
          "base_uri": "https://localhost:8080/"
        },
        "id": "VlLj_kYj59bT",
        "outputId": "26bcf06e-1be2-44c0-bc0e-7c0543cf4cef"
      },
      "source": [
        "# long and lat\n",
        "df.long_lat.head()"
      ],
      "execution_count": 21,
      "outputs": [
        {
          "output_type": "execute_result",
          "data": {
            "text/plain": [
              "0    153.41 -27.95\n",
              "1    153.41 -27.95\n",
              "2    151.23 -33.94\n",
              "3    153.10 -27.66\n",
              "4    153.41 -27.95\n",
              "Name: long_lat, dtype: object"
            ]
          },
          "metadata": {
            "tags": []
          },
          "execution_count": 21
        }
      ]
    },
    {
      "cell_type": "code",
      "metadata": {
        "colab": {
          "base_uri": "https://localhost:8080/"
        },
        "id": "FwTfErcy6F6f",
        "outputId": "665fbe00-b71a-42c9-b22f-ec73ef30f173"
      },
      "source": [
        "# transaction description\n",
        "df.txn_description.value_counts(dropna=False)"
      ],
      "execution_count": 23,
      "outputs": [
        {
          "output_type": "execute_result",
          "data": {
            "text/plain": [
              "SALES-POS     3934\n",
              "POS           3783\n",
              "PAYMENT       2600\n",
              "PAY/SALARY     883\n",
              "INTER BANK     742\n",
              "PHONE BANK     101\n",
              "Name: txn_description, dtype: int64"
            ]
          },
          "metadata": {
            "tags": []
          },
          "execution_count": 23
        }
      ]
    },
    {
      "cell_type": "code",
      "metadata": {
        "colab": {
          "base_uri": "https://localhost:8080/",
          "height": 422
        },
        "id": "0ruMOflc6Kfu",
        "outputId": "159edade-e60a-43ab-f80d-711bbe9f5fbd"
      },
      "source": [
        "plt.figure(figsize=(10,5))\n",
        "sns.countplot(df.txn_description)\n",
        "plt.title(\"Number of transactions by category\")"
      ],
      "execution_count": 24,
      "outputs": [
        {
          "output_type": "stream",
          "text": [
            "/usr/local/lib/python3.7/dist-packages/seaborn/_decorators.py:43: FutureWarning: Pass the following variable as a keyword arg: x. From version 0.12, the only valid positional argument will be `data`, and passing other arguments without an explicit keyword will result in an error or misinterpretation.\n",
            "  FutureWarning\n"
          ],
          "name": "stderr"
        },
        {
          "output_type": "execute_result",
          "data": {
            "text/plain": [
              "Text(0.5, 1.0, 'Number of transactions by category')"
            ]
          },
          "metadata": {
            "tags": []
          },
          "execution_count": 24
        },
        {
          "output_type": "display_data",
          "data": {
            "image/png": "[encoded data removed]",
            "text/plain": [
              "<Figure size 720x360 with 1 Axes>"
            ]
          },
          "metadata": {
            "tags": [],
            "needs_background": "light"
          }
        }
      ]
    },
    {
      "cell_type": "code",
      "metadata": {
        "colab": {
          "base_uri": "https://localhost:8080/",
          "height": 235
        },
        "id": "iGrSCwTQ6Tzc",
        "outputId": "626f076f-d7cf-4474-e59e-7e6b06d4b87c"
      },
      "source": [
        "df[[\"txn_description\", \"amount\"]].groupby(\"txn_description\", as_index=False).mean().sort_values(\n",
        "    by=\"amount\", ascending=False)"
      ],
      "execution_count": 25,
      "outputs": [
        {
          "output_type": "execute_result",
          "data": {
            "text/html": [
              "<div>\n",
              "<style scoped>\n",
              "    .dataframe tbody tr th:only-of-type {\n",
              "        vertical-align: middle;\n",
              "    }\n",
              "\n",
              "    .dataframe tbody tr th {\n",
              "        vertical-align: top;\n",
              "    }\n",
              "\n",
              "    .dataframe thead th {\n",
              "        text-align: right;\n",
              "    }\n",
              "</style>\n",
              "<table border=\"1\" class=\"dataframe\">\n",
              "  <thead>\n",
              "    <tr style=\"text-align: right;\">\n",
              "      <th></th>\n",
              "      <th>txn_description</th>\n",
              "      <th>amount</th>\n",
              "    </tr>\n",
              "  </thead>\n",
              "  <tbody>\n",
              "    <tr>\n",
              "      <th>1</th>\n",
              "      <td>PAY/SALARY</td>\n",
              "      <td>1898.728029</td>\n",
              "    </tr>\n",
              "    <tr>\n",
              "      <th>3</th>\n",
              "      <td>PHONE BANK</td>\n",
              "      <td>106.099010</td>\n",
              "    </tr>\n",
              "    <tr>\n",
              "      <th>0</th>\n",
              "      <td>INTER BANK</td>\n",
              "      <td>86.699461</td>\n",
              "    </tr>\n",
              "    <tr>\n",
              "      <th>2</th>\n",
              "      <td>PAYMENT</td>\n",
              "      <td>77.613077</td>\n",
              "    </tr>\n",
              "    <tr>\n",
              "      <th>4</th>\n",
              "      <td>POS</td>\n",
              "      <td>40.407412</td>\n",
              "    </tr>\n",
              "    <tr>\n",
              "      <th>5</th>\n",
              "      <td>SALES-POS</td>\n",
              "      <td>39.909789</td>\n",
              "    </tr>\n",
              "  </tbody>\n",
              "</table>\n",
              "</div>"
            ],
            "text/plain": [
              "  txn_description       amount\n",
              "1      PAY/SALARY  1898.728029\n",
              "3      PHONE BANK   106.099010\n",
              "0      INTER BANK    86.699461\n",
              "2         PAYMENT    77.613077\n",
              "4             POS    40.407412\n",
              "5       SALES-POS    39.909789"
            ]
          },
          "metadata": {
            "tags": []
          },
          "execution_count": 25
        }
      ]
    },
    {
      "cell_type": "code",
      "metadata": {
        "colab": {
          "base_uri": "https://localhost:8080/",
          "height": 368
        },
        "id": "dysV0ee77Jw9",
        "outputId": "761525c9-982d-46cd-d004-4dfbcd5dbd14"
      },
      "source": [
        "plt.figure(figsize=(8,5))\n",
        "sns.barplot(x=\"txn_description\",y=\"amount\",data=df)\n",
        "plt.title(\"Average transaction volume by category\")"
      ],
      "execution_count": 26,
      "outputs": [
        {
          "output_type": "execute_result",
          "data": {
            "text/plain": [
              "Text(0.5, 1.0, 'Average transaction volume by category')"
            ]
          },
          "metadata": {
            "tags": []
          },
          "execution_count": 26
        },
        {
          "output_type": "display_data",
          "data": {
            "image/png": "[encoded data removed]",
            "text/plain": [
              "<Figure size 576x360 with 1 Axes>"
            ]
          },
          "metadata": {
            "tags": [],
            "needs_background": "light"
          }
        }
      ]
    },
    {
      "cell_type": "code",
      "metadata": {
        "colab": {
          "base_uri": "https://localhost:8080/"
        },
        "id": "Q1ZG-CiG8iTY",
        "outputId": "2b959dec-d894-4ee2-a5ba-bd34dfb55486"
      },
      "source": [
        "# Gender\n",
        "df.gender.value_counts(dropna=False)"
      ],
      "execution_count": 27,
      "outputs": [
        {
          "output_type": "execute_result",
          "data": {
            "text/plain": [
              "M    6285\n",
              "F    5758\n",
              "Name: gender, dtype: int64"
            ]
          },
          "metadata": {
            "tags": []
          },
          "execution_count": 27
        }
      ]
    },
    {
      "cell_type": "code",
      "metadata": {
        "colab": {
          "base_uri": "https://localhost:8080/",
          "height": 421
        },
        "id": "y_CZDXwV9jiL",
        "outputId": "55e6438f-f2c5-41b1-d8ab-f6f4bc96d943"
      },
      "source": [
        "plt.figure(figsize=(5,5))\n",
        "sns.countplot(df.gender)\n",
        "plt.title(\"Number of transactions by gender\")"
      ],
      "execution_count": 28,
      "outputs": [
        {
          "output_type": "stream",
          "text": [
            "/usr/local/lib/python3.7/dist-packages/seaborn/_decorators.py:43: FutureWarning: Pass the following variable as a keyword arg: x. From version 0.12, the only valid positional argument will be `data`, and passing other arguments without an explicit keyword will result in an error or misinterpretation.\n",
            "  FutureWarning\n"
          ],
          "name": "stderr"
        },
        {
          "output_type": "execute_result",
          "data": {
            "text/plain": [
              "Text(0.5, 1.0, 'Number of transactions by gender')"
            ]
          },
          "metadata": {
            "tags": []
          },
          "execution_count": 28
        },
        {
          "output_type": "display_data",
          "data": {
            "image/png": "[encoded data removed]",
            "text/plain": [
              "<Figure size 360x360 with 1 Axes>"
            ]
          },
          "metadata": {
            "tags": [],
            "needs_background": "light"
          }
        }
      ]
    },
    {
      "cell_type": "code",
      "metadata": {
        "colab": {
          "base_uri": "https://localhost:8080/",
          "height": 111
        },
        "id": "AfghLPyw9o6c",
        "outputId": "0f054fc4-f7dd-404a-bbdf-d44185209d0b"
      },
      "source": [
        "df[[\"gender\", \"amount\"]].groupby(\"gender\", as_index=False).mean().sort_values(\n",
        "    by=\"amount\", ascending=False)"
      ],
      "execution_count": 30,
      "outputs": [
        {
          "output_type": "execute_result",
          "data": {
            "text/html": [
              "<div>\n",
              "<style scoped>\n",
              "    .dataframe tbody tr th:only-of-type {\n",
              "        vertical-align: middle;\n",
              "    }\n",
              "\n",
              "    .dataframe tbody tr th {\n",
              "        vertical-align: top;\n",
              "    }\n",
              "\n",
              "    .dataframe thead th {\n",
              "        text-align: right;\n",
              "    }\n",
              "</style>\n",
              "<table border=\"1\" class=\"dataframe\">\n",
              "  <thead>\n",
              "    <tr style=\"text-align: right;\">\n",
              "      <th></th>\n",
              "      <th>gender</th>\n",
              "      <th>amount</th>\n",
              "    </tr>\n",
              "  </thead>\n",
              "  <tbody>\n",
              "    <tr>\n",
              "      <th>1</th>\n",
              "      <td>M</td>\n",
              "      <td>205.721809</td>\n",
              "    </tr>\n",
              "    <tr>\n",
              "      <th>0</th>\n",
              "      <td>F</td>\n",
              "      <td>168.517303</td>\n",
              "    </tr>\n",
              "  </tbody>\n",
              "</table>\n",
              "</div>"
            ],
            "text/plain": [
              "  gender      amount\n",
              "1      M  205.721809\n",
              "0      F  168.517303"
            ]
          },
          "metadata": {
            "tags": []
          },
          "execution_count": 30
        }
      ]
    },
    {
      "cell_type": "code",
      "metadata": {
        "colab": {
          "base_uri": "https://localhost:8080/",
          "height": 367
        },
        "id": "AfpQk0Hw-Flj",
        "outputId": "f27ec9c0-72e5-49b6-cad6-cfd426442336"
      },
      "source": [
        "plt.figure(figsize=(8,5))\n",
        "sns.barplot(x=\"gender\", y=\"amount\", data=df)\n",
        "plt.title(\"Average transaction volume by gender\")"
      ],
      "execution_count": 31,
      "outputs": [
        {
          "output_type": "execute_result",
          "data": {
            "text/plain": [
              "Text(0.5, 1.0, 'Average transaction volume by gender')"
            ]
          },
          "metadata": {
            "tags": []
          },
          "execution_count": 31
        },
        {
          "output_type": "display_data",
          "data": {
            "image/png": "[encoded data removed]",
            "text/plain": [
              "<Figure size 576x360 with 1 Axes>"
            ]
          },
          "metadata": {
            "tags": [],
            "needs_background": "light"
          }
        }
      ]
    },
    {
      "cell_type": "code",
      "metadata": {
        "colab": {
          "base_uri": "https://localhost:8080/"
        },
        "id": "zl8ujJsl-OyW",
        "outputId": "8d600a1d-83de-4cf5-e778-7ea8e3ad87b4"
      },
      "source": [
        "# Merchant suburb\n",
        "df.merchant_suburb.value_counts(dropna=False)"
      ],
      "execution_count": 32,
      "outputs": [
        {
          "output_type": "execute_result",
          "data": {
            "text/plain": [
              "NaN              4326\n",
              "Melbourne         255\n",
              "Sydney            233\n",
              "Southport          82\n",
              "Brisbane City      79\n",
              "                 ... \n",
              "Calamvale           1\n",
              "Auchenflower        1\n",
              "Trafalgar           1\n",
              "Myrniong            1\n",
              "Walgett             1\n",
              "Name: merchant_suburb, Length: 1610, dtype: int64"
            ]
          },
          "metadata": {
            "tags": []
          },
          "execution_count": 32
        }
      ]
    },
    {
      "cell_type": "code",
      "metadata": {
        "colab": {
          "base_uri": "https://localhost:8080/"
        },
        "id": "bCw1xhjB-THx",
        "outputId": "00005808-0ee2-48c3-b01a-a49993180966"
      },
      "source": [
        "# Merchant state\n",
        "df.merchant_state.value_counts(dropna=False)"
      ],
      "execution_count": 33,
      "outputs": [
        {
          "output_type": "execute_result",
          "data": {
            "text/plain": [
              "NaN    4326\n",
              "NSW    2169\n",
              "VIC    2131\n",
              "QLD    1556\n",
              "WA     1100\n",
              "SA      415\n",
              "NT      205\n",
              "ACT      73\n",
              "TAS      68\n",
              "Name: merchant_state, dtype: int64"
            ]
          },
          "metadata": {
            "tags": []
          },
          "execution_count": 33
        }
      ]
    },
    {
      "cell_type": "code",
      "metadata": {
        "colab": {
          "base_uri": "https://localhost:8080/",
          "height": 530
        },
        "id": "TSwaSFkU-W2S",
        "outputId": "21b1fb5a-8c5d-4235-a8a2-d4c6ea6096fa"
      },
      "source": [
        "plt.figure(figsize=(12,7))\n",
        "sns.countplot(df.merchant_state)\n",
        "plt.title(\"Number of transactions by state\")"
      ],
      "execution_count": 34,
      "outputs": [
        {
          "output_type": "stream",
          "text": [
            "/usr/local/lib/python3.7/dist-packages/seaborn/_decorators.py:43: FutureWarning: Pass the following variable as a keyword arg: x. From version 0.12, the only valid positional argument will be `data`, and passing other arguments without an explicit keyword will result in an error or misinterpretation.\n",
            "  FutureWarning\n"
          ],
          "name": "stderr"
        },
        {
          "output_type": "execute_result",
          "data": {
            "text/plain": [
              "Text(0.5, 1.0, 'Number of transactions by state')"
            ]
          },
          "metadata": {
            "tags": []
          },
          "execution_count": 34
        },
        {
          "output_type": "display_data",
          "data": {
            "image/png": "[encoded data removed]",
            "text/plain": [
              "<Figure size 864x504 with 1 Axes>"
            ]
          },
          "metadata": {
            "tags": [],
            "needs_background": "light"
          }
        }
      ]
    },
    {
      "cell_type": "code",
      "metadata": {
        "colab": {
          "base_uri": "https://localhost:8080/",
          "height": 297
        },
        "id": "KI4YmQWi-dxV",
        "outputId": "532712ec-4e83-4cfa-8115-008b87fcc414"
      },
      "source": [
        "df[[\"merchant_state\", \"amount\"]].groupby(\"merchant_state\", as_index=False).mean().sort_values(\n",
        "    by=\"amount\", ascending=False)"
      ],
      "execution_count": 35,
      "outputs": [
        {
          "output_type": "execute_result",
          "data": {
            "text/html": [
              "<div>\n",
              "<style scoped>\n",
              "    .dataframe tbody tr th:only-of-type {\n",
              "        vertical-align: middle;\n",
              "    }\n",
              "\n",
              "    .dataframe tbody tr th {\n",
              "        vertical-align: top;\n",
              "    }\n",
              "\n",
              "    .dataframe thead th {\n",
              "        text-align: right;\n",
              "    }\n",
              "</style>\n",
              "<table border=\"1\" class=\"dataframe\">\n",
              "  <thead>\n",
              "    <tr style=\"text-align: right;\">\n",
              "      <th></th>\n",
              "      <th>merchant_state</th>\n",
              "      <th>amount</th>\n",
              "    </tr>\n",
              "  </thead>\n",
              "  <tbody>\n",
              "    <tr>\n",
              "      <th>0</th>\n",
              "      <td>ACT</td>\n",
              "      <td>66.803836</td>\n",
              "    </tr>\n",
              "    <tr>\n",
              "      <th>1</th>\n",
              "      <td>NSW</td>\n",
              "      <td>47.036316</td>\n",
              "    </tr>\n",
              "    <tr>\n",
              "      <th>2</th>\n",
              "      <td>NT</td>\n",
              "      <td>44.726293</td>\n",
              "    </tr>\n",
              "    <tr>\n",
              "      <th>6</th>\n",
              "      <td>VIC</td>\n",
              "      <td>41.099953</td>\n",
              "    </tr>\n",
              "    <tr>\n",
              "      <th>4</th>\n",
              "      <td>SA</td>\n",
              "      <td>40.425470</td>\n",
              "    </tr>\n",
              "    <tr>\n",
              "      <th>3</th>\n",
              "      <td>QLD</td>\n",
              "      <td>34.372397</td>\n",
              "    </tr>\n",
              "    <tr>\n",
              "      <th>7</th>\n",
              "      <td>WA</td>\n",
              "      <td>30.901873</td>\n",
              "    </tr>\n",
              "    <tr>\n",
              "      <th>5</th>\n",
              "      <td>TAS</td>\n",
              "      <td>28.866618</td>\n",
              "    </tr>\n",
              "  </tbody>\n",
              "</table>\n",
              "</div>"
            ],
            "text/plain": [
              "  merchant_state     amount\n",
              "0            ACT  66.803836\n",
              "1            NSW  47.036316\n",
              "2             NT  44.726293\n",
              "6            VIC  41.099953\n",
              "4             SA  40.425470\n",
              "3            QLD  34.372397\n",
              "7             WA  30.901873\n",
              "5            TAS  28.866618"
            ]
          },
          "metadata": {
            "tags": []
          },
          "execution_count": 35
        }
      ]
    },
    {
      "cell_type": "code",
      "metadata": {
        "colab": {
          "base_uri": "https://localhost:8080/",
          "height": 476
        },
        "id": "0B5bHSCq-k-U",
        "outputId": "a91a2e3f-1ccc-459d-e764-9132b60ff55e"
      },
      "source": [
        "plt.figure(figsize=(12,7))\n",
        "sns.barplot(x=\"merchant_state\", y=\"amount\", data=df)\n",
        "plt.title(\"Average transaction volume by state\")"
      ],
      "execution_count": 37,
      "outputs": [
        {
          "output_type": "execute_result",
          "data": {
            "text/plain": [
              "Text(0.5, 1.0, 'Average transaction volume by state')"
            ]
          },
          "metadata": {
            "tags": []
          },
          "execution_count": 37
        },
        {
          "output_type": "display_data",
          "data": {
            "image/png": "[encoded data removed]",
            "text/plain": [
              "<Figure size 864x504 with 1 Axes>"
            ]
          },
          "metadata": {
            "tags": [],
            "needs_background": "light"
          }
        }
      ]
    },
    {
      "cell_type": "code",
      "metadata": {
        "colab": {
          "base_uri": "https://localhost:8080/"
        },
        "id": "JvJy8A7v-oNx",
        "outputId": "f37021f5-d441-4920-fcfd-7289dbc74619"
      },
      "source": [
        "# Extraction\n",
        "df.extraction.head()\n",
        "# appears to be timestamps"
      ],
      "execution_count": 38,
      "outputs": [
        {
          "output_type": "execute_result",
          "data": {
            "text/plain": [
              "0    2018-08-01T01:01:15.000+0000\n",
              "1    2018-08-01T01:13:45.000+0000\n",
              "2    2018-08-01T01:26:15.000+0000\n",
              "3    2018-08-01T01:38:45.000+0000\n",
              "4    2018-08-01T01:51:15.000+0000\n",
              "Name: extraction, dtype: object"
            ]
          },
          "metadata": {
            "tags": []
          },
          "execution_count": 38
        }
      ]
    },
    {
      "cell_type": "code",
      "metadata": {
        "colab": {
          "base_uri": "https://localhost:8080/",
          "height": 204
        },
        "id": "pRp3XWRg_cHu",
        "outputId": "74bb1f40-4114-4732-8d97-d843fbda45e9"
      },
      "source": [
        "df[[\"date\", \"extraction\"]].head()"
      ],
      "execution_count": 39,
      "outputs": [
        {
          "output_type": "execute_result",
          "data": {
            "text/html": [
              "<div>\n",
              "<style scoped>\n",
              "    .dataframe tbody tr th:only-of-type {\n",
              "        vertical-align: middle;\n",
              "    }\n",
              "\n",
              "    .dataframe tbody tr th {\n",
              "        vertical-align: top;\n",
              "    }\n",
              "\n",
              "    .dataframe thead th {\n",
              "        text-align: right;\n",
              "    }\n",
              "</style>\n",
              "<table border=\"1\" class=\"dataframe\">\n",
              "  <thead>\n",
              "    <tr style=\"text-align: right;\">\n",
              "      <th></th>\n",
              "      <th>date</th>\n",
              "      <th>extraction</th>\n",
              "    </tr>\n",
              "  </thead>\n",
              "  <tbody>\n",
              "    <tr>\n",
              "      <th>0</th>\n",
              "      <td>2018-08-01</td>\n",
              "      <td>2018-08-01T01:01:15.000+0000</td>\n",
              "    </tr>\n",
              "    <tr>\n",
              "      <th>1</th>\n",
              "      <td>2018-08-01</td>\n",
              "      <td>2018-08-01T01:13:45.000+0000</td>\n",
              "    </tr>\n",
              "    <tr>\n",
              "      <th>2</th>\n",
              "      <td>2018-08-01</td>\n",
              "      <td>2018-08-01T01:26:15.000+0000</td>\n",
              "    </tr>\n",
              "    <tr>\n",
              "      <th>3</th>\n",
              "      <td>2018-08-01</td>\n",
              "      <td>2018-08-01T01:38:45.000+0000</td>\n",
              "    </tr>\n",
              "    <tr>\n",
              "      <th>4</th>\n",
              "      <td>2018-08-01</td>\n",
              "      <td>2018-08-01T01:51:15.000+0000</td>\n",
              "    </tr>\n",
              "  </tbody>\n",
              "</table>\n",
              "</div>"
            ],
            "text/plain": [
              "        date                    extraction\n",
              "0 2018-08-01  2018-08-01T01:01:15.000+0000\n",
              "1 2018-08-01  2018-08-01T01:13:45.000+0000\n",
              "2 2018-08-01  2018-08-01T01:26:15.000+0000\n",
              "3 2018-08-01  2018-08-01T01:38:45.000+0000\n",
              "4 2018-08-01  2018-08-01T01:51:15.000+0000"
            ]
          },
          "metadata": {
            "tags": []
          },
          "execution_count": 39
        }
      ]
    },
    {
      "cell_type": "code",
      "metadata": {
        "colab": {
          "base_uri": "https://localhost:8080/"
        },
        "id": "xst93obI_g0M",
        "outputId": "1617ed15-b7a3-4b59-d5cc-c4c464c76e14"
      },
      "source": [
        "# Country\n",
        "df.country.value_counts(dropna=False)\n",
        "# consider dropping this column since doesn't provide any info"
      ],
      "execution_count": 40,
      "outputs": [
        {
          "output_type": "execute_result",
          "data": {
            "text/plain": [
              "Australia    12043\n",
              "Name: country, dtype: int64"
            ]
          },
          "metadata": {
            "tags": []
          },
          "execution_count": 40
        }
      ]
    },
    {
      "cell_type": "code",
      "metadata": {
        "colab": {
          "base_uri": "https://localhost:8080/"
        },
        "id": "WtJrG9RA_k5d",
        "outputId": "d3d5048e-ca3a-46d6-b8ac-7328680bdcb2"
      },
      "source": [
        "# merchant long and lat\n",
        "df.merchant_long_lat.head()"
      ],
      "execution_count": 41,
      "outputs": [
        {
          "output_type": "execute_result",
          "data": {
            "text/plain": [
              "0    153.38 -27.99\n",
              "1    151.21 -33.87\n",
              "2    151.21 -33.87\n",
              "3    153.05 -26.68\n",
              "4    153.44 -28.06\n",
              "Name: merchant_long_lat, dtype: object"
            ]
          },
          "metadata": {
            "tags": []
          },
          "execution_count": 41
        }
      ]
    },
    {
      "cell_type": "code",
      "metadata": {
        "colab": {
          "base_uri": "https://localhost:8080/"
        },
        "id": "rEVoMwDQ_rYx",
        "outputId": "f8bba3ec-d6d8-4bc6-9848-97f71eb149d2"
      },
      "source": [
        "# movement \n",
        "df.movement.value_counts(dropna=False)"
      ],
      "execution_count": 42,
      "outputs": [
        {
          "output_type": "execute_result",
          "data": {
            "text/plain": [
              "debit     11160\n",
              "credit      883\n",
              "Name: movement, dtype: int64"
            ]
          },
          "metadata": {
            "tags": []
          },
          "execution_count": 42
        }
      ]
    },
    {
      "cell_type": "code",
      "metadata": {
        "colab": {
          "base_uri": "https://localhost:8080/",
          "height": 421
        },
        "id": "LU6ArdFt_vdK",
        "outputId": "9ebe960c-085c-4136-a42c-4063f0769179"
      },
      "source": [
        "plt.figure(figsize=(5,5))\n",
        "sns.countplot(df.movement)\n",
        "plt.title(\"Number of transaction by movement\")"
      ],
      "execution_count": 43,
      "outputs": [
        {
          "output_type": "stream",
          "text": [
            "/usr/local/lib/python3.7/dist-packages/seaborn/_decorators.py:43: FutureWarning: Pass the following variable as a keyword arg: x. From version 0.12, the only valid positional argument will be `data`, and passing other arguments without an explicit keyword will result in an error or misinterpretation.\n",
            "  FutureWarning\n"
          ],
          "name": "stderr"
        },
        {
          "output_type": "execute_result",
          "data": {
            "text/plain": [
              "Text(0.5, 1.0, 'Number of transaction by movement')"
            ]
          },
          "metadata": {
            "tags": []
          },
          "execution_count": 43
        },
        {
          "output_type": "display_data",
          "data": {
            "image/png": "[encoded data removed]",
            "text/plain": [
              "<Figure size 360x360 with 1 Axes>"
            ]
          },
          "metadata": {
            "tags": [],
            "needs_background": "light"
          }
        }
      ]
    },
    {
      "cell_type": "code",
      "metadata": {
        "colab": {
          "base_uri": "https://localhost:8080/",
          "height": 367
        },
        "id": "DTCdOJ4Y_0k7",
        "outputId": "599f6640-7682-42ce-e6f6-9eeb59ee72e2"
      },
      "source": [
        "plt.figure(figsize=(5,5))\n",
        "sns.barplot(x=\"movement\", y=\"amount\", data=df)\n",
        "plt.title(\"Average transaction volume by moment\")\n",
        "# Average transaction amount for credit transactions are much higher"
      ],
      "execution_count": 44,
      "outputs": [
        {
          "output_type": "execute_result",
          "data": {
            "text/plain": [
              "Text(0.5, 1.0, 'Average transaction volume by moment')"
            ]
          },
          "metadata": {
            "tags": []
          },
          "execution_count": 44
        },
        {
          "output_type": "display_data",
          "data": {
            "image/png": "[encoded data removed]",
            "text/plain": [
              "<Figure size 360x360 with 1 Axes>"
            ]
          },
          "metadata": {
            "tags": [],
            "needs_background": "light"
          }
        }
      ]
    },
    {
      "cell_type": "markdown",
      "metadata": {
        "id": "TEgnJvOMAzA-"
      },
      "source": [
        "## Numerical variables"
      ]
    },
    {
      "cell_type": "code",
      "metadata": {
        "colab": {
          "base_uri": "https://localhost:8080/",
          "height": 421
        },
        "id": "ZNMWop-gA0Cf",
        "outputId": "d50728ac-2df4-4efe-abf5-82e734b22a65"
      },
      "source": [
        "# balance\n",
        "plt.figure(figsize=(8,5))\n",
        "sns.distplot(df.balance)\n",
        "plt.title(\"Balance distribution\")"
      ],
      "execution_count": 45,
      "outputs": [
        {
          "output_type": "stream",
          "text": [
            "/usr/local/lib/python3.7/dist-packages/seaborn/distributions.py:2557: FutureWarning: `distplot` is a deprecated function and will be removed in a future version. Please adapt your code to use either `displot` (a figure-level function with similar flexibility) or `histplot` (an axes-level function for histograms).\n",
            "  warnings.warn(msg, FutureWarning)\n"
          ],
          "name": "stderr"
        },
        {
          "output_type": "execute_result",
          "data": {
            "text/plain": [
              "Text(0.5, 1.0, 'Balance distribution')"
            ]
          },
          "metadata": {
            "tags": []
          },
          "execution_count": 45
        },
        {
          "output_type": "display_data",
          "data": {
            "image/png": "[encoded data removed]",
            "text/plain": [
              "<Figure size 576x360 with 1 Axes>"
            ]
          },
          "metadata": {
            "tags": [],
            "needs_background": "light"
          }
        }
      ]
    },
    {
      "cell_type": "code",
      "metadata": {
        "colab": {
          "base_uri": "https://localhost:8080/",
          "height": 350
        },
        "id": "xJ12luslA5MA",
        "outputId": "9e37c974-0315-4cb0-8525-6e3a5b14250e"
      },
      "source": [
        "plt.figure(figsize=(12,4))\n",
        "sns.boxplot(df.balance)"
      ],
      "execution_count": 46,
      "outputs": [
        {
          "output_type": "stream",
          "text": [
            "/usr/local/lib/python3.7/dist-packages/seaborn/_decorators.py:43: FutureWarning: Pass the following variable as a keyword arg: x. From version 0.12, the only valid positional argument will be `data`, and passing other arguments without an explicit keyword will result in an error or misinterpretation.\n",
            "  FutureWarning\n"
          ],
          "name": "stderr"
        },
        {
          "output_type": "execute_result",
          "data": {
            "text/plain": [
              "<matplotlib.axes._subplots.AxesSubplot at 0x7f4633ef0d10>"
            ]
          },
          "metadata": {
            "tags": []
          },
          "execution_count": 46
        },
        {
          "output_type": "display_data",
          "data": {
            "image/png": "[encoded data removed]",
            "text/plain": [
              "<Figure size 864x288 with 1 Axes>"
            ]
          },
          "metadata": {
            "tags": [],
            "needs_background": "light"
          }
        }
      ]
    },
    {
      "cell_type": "code",
      "metadata": {
        "colab": {
          "base_uri": "https://localhost:8080/",
          "height": 421
        },
        "id": "CB7EjT4VBFfu",
        "outputId": "bb01f614-a5d5-4d02-e0b1-bf32810b2541"
      },
      "source": [
        "# age of customers\n",
        "plt.figure(figsize=(8,5))\n",
        "sns.distplot(df.age)\n",
        "plt.title(\"Age distribution\")"
      ],
      "execution_count": 47,
      "outputs": [
        {
          "output_type": "stream",
          "text": [
            "/usr/local/lib/python3.7/dist-packages/seaborn/distributions.py:2557: FutureWarning: `distplot` is a deprecated function and will be removed in a future version. Please adapt your code to use either `displot` (a figure-level function with similar flexibility) or `histplot` (an axes-level function for histograms).\n",
            "  warnings.warn(msg, FutureWarning)\n"
          ],
          "name": "stderr"
        },
        {
          "output_type": "execute_result",
          "data": {
            "text/plain": [
              "Text(0.5, 1.0, 'Age distribution')"
            ]
          },
          "metadata": {
            "tags": []
          },
          "execution_count": 47
        },
        {
          "output_type": "display_data",
          "data": {
            "image/png": "[encoded data removed]",
            "text/plain": [
              "<Figure size 576x360 with 1 Axes>"
            ]
          },
          "metadata": {
            "tags": [],
            "needs_background": "light"
          }
        }
      ]
    },
    {
      "cell_type": "code",
      "metadata": {
        "colab": {
          "base_uri": "https://localhost:8080/",
          "height": 421
        },
        "id": "_wvGtKPBBnQh",
        "outputId": "d218bd89-da0e-4169-b41b-3c2b16fc143e"
      },
      "source": [
        "# transaction amount\n",
        "plt.figure(figsize=(8,5))\n",
        "sns.distplot(df.amount)\n",
        "plt.title(\"Amount distribution\")"
      ],
      "execution_count": 48,
      "outputs": [
        {
          "output_type": "stream",
          "text": [
            "/usr/local/lib/python3.7/dist-packages/seaborn/distributions.py:2557: FutureWarning: `distplot` is a deprecated function and will be removed in a future version. Please adapt your code to use either `displot` (a figure-level function with similar flexibility) or `histplot` (an axes-level function for histograms).\n",
            "  warnings.warn(msg, FutureWarning)\n"
          ],
          "name": "stderr"
        },
        {
          "output_type": "execute_result",
          "data": {
            "text/plain": [
              "Text(0.5, 1.0, 'Amount distribution')"
            ]
          },
          "metadata": {
            "tags": []
          },
          "execution_count": 48
        },
        {
          "output_type": "display_data",
          "data": {
            "image/png": "[encoded data removed]",
            "text/plain": [
              "<Figure size 576x360 with 1 Axes>"
            ]
          },
          "metadata": {
            "tags": [],
            "needs_background": "light"
          }
        }
      ]
    },
    {
      "cell_type": "markdown",
      "metadata": {
        "id": "s3i6-E3bDSLy"
      },
      "source": [
        "## Feature Engineering"
      ]
    },
    {
      "cell_type": "code",
      "metadata": {
        "colab": {
          "base_uri": "https://localhost:8080/"
        },
        "id": "zef07O_XDTnG",
        "outputId": "4425dc2d-a0bf-4cb7-904e-7f71ca0cf398"
      },
      "source": [
        "# Drop unwanted columns\n",
        "print(\"Before: \", df.shape)\n",
        "data = df.drop([\"currency\", \"country\"], axis=1)\n",
        "print(\"After: \", data.shape)"
      ],
      "execution_count": 50,
      "outputs": [
        {
          "output_type": "stream",
          "text": [
            "Before:  (12043, 23)\n",
            "After:  (12043, 21)\n"
          ],
          "name": "stdout"
        }
      ]
    },
    {
      "cell_type": "code",
      "metadata": {
        "colab": {
          "base_uri": "https://localhost:8080/",
          "height": 266
        },
        "id": "OLB9ZZQDDrAV",
        "outputId": "6cf6e1ae-6eda-45ed-ef6f-27c191014d53"
      },
      "source": [
        "# Deal with missing values\n",
        "missing = data.isnull().sum()\n",
        "missing = missing[missing>0]\n",
        "missing_percentage = round(missing/len(data), 3)*100\n",
        "pd.DataFrame({\"Number of missing values\": missing, \"Percentage\": missing_percentage}).sort_values(\n",
        "    by=\"Percentage\", ascending=False)"
      ],
      "execution_count": 54,
      "outputs": [
        {
          "output_type": "execute_result",
          "data": {
            "text/html": [
              "<div>\n",
              "<style scoped>\n",
              "    .dataframe tbody tr th:only-of-type {\n",
              "        vertical-align: middle;\n",
              "    }\n",
              "\n",
              "    .dataframe tbody tr th {\n",
              "        vertical-align: top;\n",
              "    }\n",
              "\n",
              "    .dataframe thead th {\n",
              "        text-align: right;\n",
              "    }\n",
              "</style>\n",
              "<table border=\"1\" class=\"dataframe\">\n",
              "  <thead>\n",
              "    <tr style=\"text-align: right;\">\n",
              "      <th></th>\n",
              "      <th>Number of missing values</th>\n",
              "      <th>Percentage</th>\n",
              "    </tr>\n",
              "  </thead>\n",
              "  <tbody>\n",
              "    <tr>\n",
              "      <th>bpay_biller_code</th>\n",
              "      <td>11158</td>\n",
              "      <td>92.7</td>\n",
              "    </tr>\n",
              "    <tr>\n",
              "      <th>merchant_code</th>\n",
              "      <td>11160</td>\n",
              "      <td>92.7</td>\n",
              "    </tr>\n",
              "    <tr>\n",
              "      <th>card_present_flag</th>\n",
              "      <td>4326</td>\n",
              "      <td>35.9</td>\n",
              "    </tr>\n",
              "    <tr>\n",
              "      <th>merchant_id</th>\n",
              "      <td>4326</td>\n",
              "      <td>35.9</td>\n",
              "    </tr>\n",
              "    <tr>\n",
              "      <th>merchant_suburb</th>\n",
              "      <td>4326</td>\n",
              "      <td>35.9</td>\n",
              "    </tr>\n",
              "    <tr>\n",
              "      <th>merchant_state</th>\n",
              "      <td>4326</td>\n",
              "      <td>35.9</td>\n",
              "    </tr>\n",
              "    <tr>\n",
              "      <th>merchant_long_lat</th>\n",
              "      <td>4326</td>\n",
              "      <td>35.9</td>\n",
              "    </tr>\n",
              "  </tbody>\n",
              "</table>\n",
              "</div>"
            ],
            "text/plain": [
              "                   Number of missing values  Percentage\n",
              "bpay_biller_code                      11158        92.7\n",
              "merchant_code                         11160        92.7\n",
              "card_present_flag                      4326        35.9\n",
              "merchant_id                            4326        35.9\n",
              "merchant_suburb                        4326        35.9\n",
              "merchant_state                         4326        35.9\n",
              "merchant_long_lat                      4326        35.9"
            ]
          },
          "metadata": {
            "tags": []
          },
          "execution_count": 54
        }
      ]
    },
    {
      "cell_type": "code",
      "metadata": {
        "id": "KQHaaflEEFdq"
      },
      "source": [
        "# 4326 --> from non-purchased transaction\n",
        "cols = [\"card_present_flag\", \"merchant_id\", \"merchant_suburb\", \"merchant_state\", \"merchant_long_lat\"]\n",
        "for col in cols:\n",
        "  data[col].fillna(\"n/a\", inplace=True)"
      ],
      "execution_count": 56,
      "outputs": []
    },
    {
      "cell_type": "code",
      "metadata": {
        "colab": {
          "base_uri": "https://localhost:8080/"
        },
        "id": "-dVRxvWYFhlG",
        "outputId": "c512e052-8a97-49a8-bcac-6a3eddea065d"
      },
      "source": [
        "missing = data.isnull().sum()\n",
        "missing = missing[missing>0]\n",
        "missing.sort_values(ascending=False)"
      ],
      "execution_count": 57,
      "outputs": [
        {
          "output_type": "execute_result",
          "data": {
            "text/plain": [
              "merchant_code       11160\n",
              "bpay_biller_code    11158\n",
              "dtype: int64"
            ]
          },
          "metadata": {
            "tags": []
          },
          "execution_count": 57
        }
      ]
    },
    {
      "cell_type": "code",
      "metadata": {
        "id": "we0ZLpmQFrvp"
      },
      "source": [
        "# Both merchant_code and bpay_biller_code are severely missing, we will drop it\n",
        "data = data.drop([\"merchant_code\", \"bpay_biller_code\"], axis=1)"
      ],
      "execution_count": 58,
      "outputs": []
    },
    {
      "cell_type": "code",
      "metadata": {
        "colab": {
          "base_uri": "https://localhost:8080/"
        },
        "id": "uF9KAlCqF0mo",
        "outputId": "8ecd1cc2-4ca4-436e-dea8-76b6efa0d850"
      },
      "source": [
        "data.isnull().sum()\n",
        "# Now, there are no more missing data"
      ],
      "execution_count": 59,
      "outputs": [
        {
          "output_type": "execute_result",
          "data": {
            "text/plain": [
              "status               0\n",
              "card_present_flag    0\n",
              "account              0\n",
              "long_lat             0\n",
              "txn_description      0\n",
              "merchant_id          0\n",
              "first_name           0\n",
              "balance              0\n",
              "date                 0\n",
              "gender               0\n",
              "age                  0\n",
              "merchant_suburb      0\n",
              "merchant_state       0\n",
              "extraction           0\n",
              "amount               0\n",
              "transaction_id       0\n",
              "customer_id          0\n",
              "merchant_long_lat    0\n",
              "movement             0\n",
              "dtype: int64"
            ]
          },
          "metadata": {
            "tags": []
          },
          "execution_count": 59
        }
      ]
    },
    {
      "cell_type": "code",
      "metadata": {
        "colab": {
          "base_uri": "https://localhost:8080/",
          "height": 235
        },
        "id": "_CYkZLbYF2rc",
        "outputId": "56c5134f-2edf-41a3-ba34-12a42803e5d8"
      },
      "source": [
        "daily_amount = pd.DataFrame(data.groupby(\"date\").amount.sum())\n",
        "daily_amount.head()"
      ],
      "execution_count": 60,
      "outputs": [
        {
          "output_type": "execute_result",
          "data": {
            "text/html": [
              "<div>\n",
              "<style scoped>\n",
              "    .dataframe tbody tr th:only-of-type {\n",
              "        vertical-align: middle;\n",
              "    }\n",
              "\n",
              "    .dataframe tbody tr th {\n",
              "        vertical-align: top;\n",
              "    }\n",
              "\n",
              "    .dataframe thead th {\n",
              "        text-align: right;\n",
              "    }\n",
              "</style>\n",
              "<table border=\"1\" class=\"dataframe\">\n",
              "  <thead>\n",
              "    <tr style=\"text-align: right;\">\n",
              "      <th></th>\n",
              "      <th>amount</th>\n",
              "    </tr>\n",
              "    <tr>\n",
              "      <th>date</th>\n",
              "      <th></th>\n",
              "    </tr>\n",
              "  </thead>\n",
              "  <tbody>\n",
              "    <tr>\n",
              "      <th>2018-08-01</th>\n",
              "      <td>29867.94</td>\n",
              "    </tr>\n",
              "    <tr>\n",
              "      <th>2018-08-02</th>\n",
              "      <td>21786.32</td>\n",
              "    </tr>\n",
              "    <tr>\n",
              "      <th>2018-08-03</th>\n",
              "      <td>38096.58</td>\n",
              "    </tr>\n",
              "    <tr>\n",
              "      <th>2018-08-04</th>\n",
              "      <td>6296.05</td>\n",
              "    </tr>\n",
              "    <tr>\n",
              "      <th>2018-08-05</th>\n",
              "      <td>4426.50</td>\n",
              "    </tr>\n",
              "  </tbody>\n",
              "</table>\n",
              "</div>"
            ],
            "text/plain": [
              "              amount\n",
              "date                \n",
              "2018-08-01  29867.94\n",
              "2018-08-02  21786.32\n",
              "2018-08-03  38096.58\n",
              "2018-08-04   6296.05\n",
              "2018-08-05   4426.50"
            ]
          },
          "metadata": {
            "tags": []
          },
          "execution_count": 60
        }
      ]
    },
    {
      "cell_type": "code",
      "metadata": {
        "colab": {
          "base_uri": "https://localhost:8080/",
          "height": 367
        },
        "id": "hi1IVBzWGRvn",
        "outputId": "aa5ca987-938f-443f-85bc-14e1a554b7ad"
      },
      "source": [
        "fig, ax = plt.subplots(figsize=(12,5))\n",
        "ax.plot(daily_amount.index, daily_amount.amount)\n",
        "plt.title(\"Transaction volume from 1/8/2018 to 31/10/2018\")\n",
        "plt.xlabel(\"Date\")\n",
        "plt.ylabel(\"Transaction volume\")"
      ],
      "execution_count": 61,
      "outputs": [
        {
          "output_type": "execute_result",
          "data": {
            "text/plain": [
              "Text(0, 0.5, 'Transaction volume')"
            ]
          },
          "metadata": {
            "tags": []
          },
          "execution_count": 61
        },
        {
          "output_type": "display_data",
          "data": {
            "image/png": "[encoded data removed]",
            "text/plain": [
              "<Figure size 864x360 with 1 Axes>"
            ]
          },
          "metadata": {
            "tags": [],
            "needs_background": "light"
          }
        }
      ]
    },
    {
      "cell_type": "code",
      "metadata": {
        "colab": {
          "base_uri": "https://localhost:8080/",
          "height": 204
        },
        "id": "oIJcj31hG5e4",
        "outputId": "2590198b-aeb4-43f7-b3d9-b812c59e7c1e"
      },
      "source": [
        "# We will create month, dayofweek, and hour\n",
        "data[\"month\"] = pd.DatetimeIndex(data.date).month\n",
        "data[\"dayofweek\"] = pd.DatetimeIndex(data.date).dayofweek\n",
        "data[[\"date\", \"month\", \"dayofweek\"]].head()"
      ],
      "execution_count": 62,
      "outputs": [
        {
          "output_type": "execute_result",
          "data": {
            "text/html": [
              "<div>\n",
              "<style scoped>\n",
              "    .dataframe tbody tr th:only-of-type {\n",
              "        vertical-align: middle;\n",
              "    }\n",
              "\n",
              "    .dataframe tbody tr th {\n",
              "        vertical-align: top;\n",
              "    }\n",
              "\n",
              "    .dataframe thead th {\n",
              "        text-align: right;\n",
              "    }\n",
              "</style>\n",
              "<table border=\"1\" class=\"dataframe\">\n",
              "  <thead>\n",
              "    <tr style=\"text-align: right;\">\n",
              "      <th></th>\n",
              "      <th>date</th>\n",
              "      <th>month</th>\n",
              "      <th>dayofweek</th>\n",
              "    </tr>\n",
              "  </thead>\n",
              "  <tbody>\n",
              "    <tr>\n",
              "      <th>0</th>\n",
              "      <td>2018-08-01</td>\n",
              "      <td>8</td>\n",
              "      <td>2</td>\n",
              "    </tr>\n",
              "    <tr>\n",
              "      <th>1</th>\n",
              "      <td>2018-08-01</td>\n",
              "      <td>8</td>\n",
              "      <td>2</td>\n",
              "    </tr>\n",
              "    <tr>\n",
              "      <th>2</th>\n",
              "      <td>2018-08-01</td>\n",
              "      <td>8</td>\n",
              "      <td>2</td>\n",
              "    </tr>\n",
              "    <tr>\n",
              "      <th>3</th>\n",
              "      <td>2018-08-01</td>\n",
              "      <td>8</td>\n",
              "      <td>2</td>\n",
              "    </tr>\n",
              "    <tr>\n",
              "      <th>4</th>\n",
              "      <td>2018-08-01</td>\n",
              "      <td>8</td>\n",
              "      <td>2</td>\n",
              "    </tr>\n",
              "  </tbody>\n",
              "</table>\n",
              "</div>"
            ],
            "text/plain": [
              "        date  month  dayofweek\n",
              "0 2018-08-01      8          2\n",
              "1 2018-08-01      8          2\n",
              "2 2018-08-01      8          2\n",
              "3 2018-08-01      8          2\n",
              "4 2018-08-01      8          2"
            ]
          },
          "metadata": {
            "tags": []
          },
          "execution_count": 62
        }
      ]
    },
    {
      "cell_type": "code",
      "metadata": {
        "colab": {
          "base_uri": "https://localhost:8080/"
        },
        "id": "YRGAUK12ILDy",
        "outputId": "d4c2d2b8-2f1a-43d6-8c26-299746f8595d"
      },
      "source": [
        "data.extraction.head()"
      ],
      "execution_count": 63,
      "outputs": [
        {
          "output_type": "execute_result",
          "data": {
            "text/plain": [
              "0    2018-08-01T01:01:15.000+0000\n",
              "1    2018-08-01T01:13:45.000+0000\n",
              "2    2018-08-01T01:26:15.000+0000\n",
              "3    2018-08-01T01:38:45.000+0000\n",
              "4    2018-08-01T01:51:15.000+0000\n",
              "Name: extraction, dtype: object"
            ]
          },
          "metadata": {
            "tags": []
          },
          "execution_count": 63
        }
      ]
    },
    {
      "cell_type": "code",
      "metadata": {
        "colab": {
          "base_uri": "https://localhost:8080/"
        },
        "id": "9UDoDZ2MINnX",
        "outputId": "6a969e08-fff9-4639-c7df-a9f5677b58ca"
      },
      "source": [
        "data[\"extraction\"] = [timestamp.split(\"T\")[1].split(\".\")[0] for timestamp in data.extraction]\n",
        "data.extraction.head()"
      ],
      "execution_count": 65,
      "outputs": [
        {
          "output_type": "execute_result",
          "data": {
            "text/plain": [
              "0    01:01:15\n",
              "1    01:13:45\n",
              "2    01:26:15\n",
              "3    01:38:45\n",
              "4    01:51:15\n",
              "Name: extraction, dtype: object"
            ]
          },
          "metadata": {
            "tags": []
          },
          "execution_count": 65
        }
      ]
    },
    {
      "cell_type": "code",
      "metadata": {
        "colab": {
          "base_uri": "https://localhost:8080/",
          "height": 204
        },
        "id": "AM7wu4l5I0HU",
        "outputId": "b312a744-d2cc-4f78-fbdf-20cd6375ad0e"
      },
      "source": [
        "data[\"hour\"] = [time.split(\":\")[0] for time in data.extraction]\n",
        "data[[\"extraction\", \"hour\"]].head()"
      ],
      "execution_count": 67,
      "outputs": [
        {
          "output_type": "execute_result",
          "data": {
            "text/html": [
              "<div>\n",
              "<style scoped>\n",
              "    .dataframe tbody tr th:only-of-type {\n",
              "        vertical-align: middle;\n",
              "    }\n",
              "\n",
              "    .dataframe tbody tr th {\n",
              "        vertical-align: top;\n",
              "    }\n",
              "\n",
              "    .dataframe thead th {\n",
              "        text-align: right;\n",
              "    }\n",
              "</style>\n",
              "<table border=\"1\" class=\"dataframe\">\n",
              "  <thead>\n",
              "    <tr style=\"text-align: right;\">\n",
              "      <th></th>\n",
              "      <th>extraction</th>\n",
              "      <th>hour</th>\n",
              "    </tr>\n",
              "  </thead>\n",
              "  <tbody>\n",
              "    <tr>\n",
              "      <th>0</th>\n",
              "      <td>01:01:15</td>\n",
              "      <td>01</td>\n",
              "    </tr>\n",
              "    <tr>\n",
              "      <th>1</th>\n",
              "      <td>01:13:45</td>\n",
              "      <td>01</td>\n",
              "    </tr>\n",
              "    <tr>\n",
              "      <th>2</th>\n",
              "      <td>01:26:15</td>\n",
              "      <td>01</td>\n",
              "    </tr>\n",
              "    <tr>\n",
              "      <th>3</th>\n",
              "      <td>01:38:45</td>\n",
              "      <td>01</td>\n",
              "    </tr>\n",
              "    <tr>\n",
              "      <th>4</th>\n",
              "      <td>01:51:15</td>\n",
              "      <td>01</td>\n",
              "    </tr>\n",
              "  </tbody>\n",
              "</table>\n",
              "</div>"
            ],
            "text/plain": [
              "  extraction hour\n",
              "0   01:01:15   01\n",
              "1   01:13:45   01\n",
              "2   01:26:15   01\n",
              "3   01:38:45   01\n",
              "4   01:51:15   01"
            ]
          },
          "metadata": {
            "tags": []
          },
          "execution_count": 67
        }
      ]
    },
    {
      "cell_type": "code",
      "metadata": {
        "colab": {
          "base_uri": "https://localhost:8080/"
        },
        "id": "YTOnCH9oI_ZN",
        "outputId": "d254e049-c31a-4f61-fc76-d6b700c4ac5a"
      },
      "source": [
        "print(\"Before: \", data.hour.dtype)\n",
        "data[\"hour\"] = pd.to_numeric(data.hour)\n",
        "print(\"After: \",data.hour.dtype)"
      ],
      "execution_count": 68,
      "outputs": [
        {
          "output_type": "stream",
          "text": [
            "Before:  object\n",
            "After:  int64\n"
          ],
          "name": "stdout"
        }
      ]
    },
    {
      "cell_type": "markdown",
      "metadata": {
        "id": "QJ1T2fnoJ5wQ"
      },
      "source": [
        "## Deep Dive"
      ]
    },
    {
      "cell_type": "code",
      "metadata": {
        "colab": {
          "base_uri": "https://localhost:8080/"
        },
        "id": "QYSzTte7J731",
        "outputId": "56759a6c-7fc7-428c-b3b9-5423744c7560"
      },
      "source": [
        "# Purchases amount and overall amount\n",
        "purchases_amount = data.loc[(data.txn_description == \"POS\") | (data.txn_description == \"SALES-POS\"), \"amount\"]\n",
        "purchases_amount.head()"
      ],
      "execution_count": 69,
      "outputs": [
        {
          "output_type": "execute_result",
          "data": {
            "text/plain": [
              "0    16.25\n",
              "1    14.19\n",
              "2     6.42\n",
              "3    40.90\n",
              "4     3.25\n",
              "Name: amount, dtype: float64"
            ]
          },
          "metadata": {
            "tags": []
          },
          "execution_count": 69
        }
      ]
    },
    {
      "cell_type": "code",
      "metadata": {
        "colab": {
          "base_uri": "https://localhost:8080/"
        },
        "id": "lnjITjRlKI9H",
        "outputId": "bbf75eee-b557-4f87-a0c5-af3e6a2f2f94"
      },
      "source": [
        "purchases_amount.describe()"
      ],
      "execution_count": 70,
      "outputs": [
        {
          "output_type": "execute_result",
          "data": {
            "text/plain": [
              "count    7717.000000\n",
              "mean       40.153732\n",
              "std       149.833070\n",
              "min         0.100000\n",
              "25%        12.080000\n",
              "50%        19.700000\n",
              "75%        33.910000\n",
              "max      7081.090000\n",
              "Name: amount, dtype: float64"
            ]
          },
          "metadata": {
            "tags": []
          },
          "execution_count": 70
        }
      ]
    },
    {
      "cell_type": "code",
      "metadata": {
        "colab": {
          "base_uri": "https://localhost:8080/",
          "height": 421
        },
        "id": "mLaUQr5HO2Qv",
        "outputId": "c570534f-827f-4823-f93e-9605020d381d"
      },
      "source": [
        "plt.figure(figsize=(8,5))\n",
        "sns.distplot(data.amount)\n",
        "plt.title(\"Overall transaction amount\")"
      ],
      "execution_count": 71,
      "outputs": [
        {
          "output_type": "stream",
          "text": [
            "/usr/local/lib/python3.7/dist-packages/seaborn/distributions.py:2557: FutureWarning: `distplot` is a deprecated function and will be removed in a future version. Please adapt your code to use either `displot` (a figure-level function with similar flexibility) or `histplot` (an axes-level function for histograms).\n",
            "  warnings.warn(msg, FutureWarning)\n"
          ],
          "name": "stderr"
        },
        {
          "output_type": "execute_result",
          "data": {
            "text/plain": [
              "Text(0.5, 1.0, 'Overall transaction amount')"
            ]
          },
          "metadata": {
            "tags": []
          },
          "execution_count": 71
        },
        {
          "output_type": "display_data",
          "data": {
            "image/png": "[encoded data removed]",
            "text/plain": [
              "<Figure size 576x360 with 1 Axes>"
            ]
          },
          "metadata": {
            "tags": [],
            "needs_background": "light"
          }
        }
      ]
    },
    {
      "cell_type": "code",
      "metadata": {
        "colab": {
          "base_uri": "https://localhost:8080/",
          "height": 235
        },
        "id": "n8d4O3UePO2C",
        "outputId": "6e4343b6-d70b-4720-b864-68f68427ef5f"
      },
      "source": [
        "# Transaction volume per customer\n",
        "customer_monthly_volume = pd.DataFrame(data.groupby(\"customer_id\").amount.sum()/3)\n",
        "customer_monthly_volume.head()"
      ],
      "execution_count": 72,
      "outputs": [
        {
          "output_type": "execute_result",
          "data": {
            "text/html": [
              "<div>\n",
              "<style scoped>\n",
              "    .dataframe tbody tr th:only-of-type {\n",
              "        vertical-align: middle;\n",
              "    }\n",
              "\n",
              "    .dataframe tbody tr th {\n",
              "        vertical-align: top;\n",
              "    }\n",
              "\n",
              "    .dataframe thead th {\n",
              "        text-align: right;\n",
              "    }\n",
              "</style>\n",
              "<table border=\"1\" class=\"dataframe\">\n",
              "  <thead>\n",
              "    <tr style=\"text-align: right;\">\n",
              "      <th></th>\n",
              "      <th>amount</th>\n",
              "    </tr>\n",
              "    <tr>\n",
              "      <th>customer_id</th>\n",
              "      <th></th>\n",
              "    </tr>\n",
              "  </thead>\n",
              "  <tbody>\n",
              "    <tr>\n",
              "      <th>CUS-1005756958</th>\n",
              "      <td>5422.990000</td>\n",
              "    </tr>\n",
              "    <tr>\n",
              "      <th>CUS-1117979751</th>\n",
              "      <td>11328.123333</td>\n",
              "    </tr>\n",
              "    <tr>\n",
              "      <th>CUS-1140341822</th>\n",
              "      <td>5670.200000</td>\n",
              "    </tr>\n",
              "    <tr>\n",
              "      <th>CUS-1147642491</th>\n",
              "      <td>9660.273333</td>\n",
              "    </tr>\n",
              "    <tr>\n",
              "      <th>CUS-1196156254</th>\n",
              "      <td>12016.906667</td>\n",
              "    </tr>\n",
              "  </tbody>\n",
              "</table>\n",
              "</div>"
            ],
            "text/plain": [
              "                      amount\n",
              "customer_id                 \n",
              "CUS-1005756958   5422.990000\n",
              "CUS-1117979751  11328.123333\n",
              "CUS-1140341822   5670.200000\n",
              "CUS-1147642491   9660.273333\n",
              "CUS-1196156254  12016.906667"
            ]
          },
          "metadata": {
            "tags": []
          },
          "execution_count": 72
        }
      ]
    },
    {
      "cell_type": "code",
      "metadata": {
        "colab": {
          "base_uri": "https://localhost:8080/",
          "height": 421
        },
        "id": "ZOm--jpePbgR",
        "outputId": "16bdb715-9a61-47ee-daff-39f7c2ba2a04"
      },
      "source": [
        "plt.figure(figsize=(12,5))\n",
        "sns.distplot(customer_monthly_volume.amount)\n",
        "plt.title(\"Customers' monthly transaction volume\")"
      ],
      "execution_count": 73,
      "outputs": [
        {
          "output_type": "stream",
          "text": [
            "/usr/local/lib/python3.7/dist-packages/seaborn/distributions.py:2557: FutureWarning: `distplot` is a deprecated function and will be removed in a future version. Please adapt your code to use either `displot` (a figure-level function with similar flexibility) or `histplot` (an axes-level function for histograms).\n",
            "  warnings.warn(msg, FutureWarning)\n"
          ],
          "name": "stderr"
        },
        {
          "output_type": "execute_result",
          "data": {
            "text/plain": [
              "Text(0.5, 1.0, \"Customers' monthly transaction volume\")"
            ]
          },
          "metadata": {
            "tags": []
          },
          "execution_count": 73
        },
        {
          "output_type": "display_data",
          "data": {
            "image/png": "[encoded data removed]",
            "text/plain": [
              "<Figure size 864x360 with 1 Axes>"
            ]
          },
          "metadata": {
            "tags": [],
            "needs_background": "light"
          }
        }
      ]
    },
    {
      "cell_type": "code",
      "metadata": {
        "colab": {
          "base_uri": "https://localhost:8080/",
          "height": 367
        },
        "id": "UQS7uwRqPjBB",
        "outputId": "1cd646d1-38dd-4587-8e25-1cc4e5a8a6a9"
      },
      "source": [
        "# Transaction volume over time\n",
        "plt.figure(figsize=(5,5))\n",
        "sns.barplot(x=\"month\", y=\"amount\", data=data)\n",
        "plt.title(\"Average transaction volume by month\")"
      ],
      "execution_count": 74,
      "outputs": [
        {
          "output_type": "execute_result",
          "data": {
            "text/plain": [
              "Text(0.5, 1.0, 'Average transaction volume by month')"
            ]
          },
          "metadata": {
            "tags": []
          },
          "execution_count": 74
        },
        {
          "output_type": "display_data",
          "data": {
            "image/png": "[encoded data removed]",
            "text/plain": [
              "<Figure size 360x360 with 1 Axes>"
            ]
          },
          "metadata": {
            "tags": [],
            "needs_background": "light"
          }
        }
      ]
    },
    {
      "cell_type": "code",
      "metadata": {
        "colab": {
          "base_uri": "https://localhost:8080/",
          "height": 235
        },
        "id": "Q_9qsnbPP9KW",
        "outputId": "e9cf51ed-2b86-4352-da09-61d25050bb66"
      },
      "source": [
        "average_daily_volume = pd.DataFrame(data.groupby(\"dayofweek\").amount.mean())\n",
        "average_daily_volume.head()"
      ],
      "execution_count": 75,
      "outputs": [
        {
          "output_type": "execute_result",
          "data": {
            "text/html": [
              "<div>\n",
              "<style scoped>\n",
              "    .dataframe tbody tr th:only-of-type {\n",
              "        vertical-align: middle;\n",
              "    }\n",
              "\n",
              "    .dataframe tbody tr th {\n",
              "        vertical-align: top;\n",
              "    }\n",
              "\n",
              "    .dataframe thead th {\n",
              "        text-align: right;\n",
              "    }\n",
              "</style>\n",
              "<table border=\"1\" class=\"dataframe\">\n",
              "  <thead>\n",
              "    <tr style=\"text-align: right;\">\n",
              "      <th></th>\n",
              "      <th>amount</th>\n",
              "    </tr>\n",
              "    <tr>\n",
              "      <th>dayofweek</th>\n",
              "      <th></th>\n",
              "    </tr>\n",
              "  </thead>\n",
              "  <tbody>\n",
              "    <tr>\n",
              "      <th>0</th>\n",
              "      <td>373.221000</td>\n",
              "    </tr>\n",
              "    <tr>\n",
              "      <th>1</th>\n",
              "      <td>221.576456</td>\n",
              "    </tr>\n",
              "    <tr>\n",
              "      <th>2</th>\n",
              "      <td>195.215570</td>\n",
              "    </tr>\n",
              "    <tr>\n",
              "      <th>3</th>\n",
              "      <td>184.010422</td>\n",
              "    </tr>\n",
              "    <tr>\n",
              "      <th>4</th>\n",
              "      <td>249.353517</td>\n",
              "    </tr>\n",
              "  </tbody>\n",
              "</table>\n",
              "</div>"
            ],
            "text/plain": [
              "               amount\n",
              "dayofweek            \n",
              "0          373.221000\n",
              "1          221.576456\n",
              "2          195.215570\n",
              "3          184.010422\n",
              "4          249.353517"
            ]
          },
          "metadata": {
            "tags": []
          },
          "execution_count": 75
        }
      ]
    },
    {
      "cell_type": "code",
      "metadata": {
        "colab": {
          "base_uri": "https://localhost:8080/",
          "height": 367
        },
        "id": "vYR-EbUxQQoY",
        "outputId": "9dafbffe-9d44-4901-fdd7-a9c8249edc3f"
      },
      "source": [
        "fig, ax = plt.subplots(figsize=(8,5))\n",
        "ax.plot(average_daily_volume.index, average_daily_volume.amount)\n",
        "plt.title(\"Average transaction volume per day\")\n",
        "plt.xlabel(\"Day of week\")\n",
        "plt.ylabel(\"Transaction volume\")\n",
        "# Friday and Saturday have the lowest average transaction volume"
      ],
      "execution_count": 76,
      "outputs": [
        {
          "output_type": "execute_result",
          "data": {
            "text/plain": [
              "Text(0, 0.5, 'Transaction volume')"
            ]
          },
          "metadata": {
            "tags": []
          },
          "execution_count": 76
        },
        {
          "output_type": "display_data",
          "data": {
            "image/png": "[encoded data removed]",
            "text/plain": [
              "<Figure size 576x360 with 1 Axes>"
            ]
          },
          "metadata": {
            "tags": [],
            "needs_background": "light"
          }
        }
      ]
    },
    {
      "cell_type": "code",
      "metadata": {
        "colab": {
          "base_uri": "https://localhost:8080/"
        },
        "id": "qJvMAMcVQx8b",
        "outputId": "80597917-d6ff-4c4d-8340-f81da4b24235"
      },
      "source": [
        "# Group all transaction into 3 categories: Salary, Purchase, Others\n",
        "data.txn_description.value_counts()"
      ],
      "execution_count": 77,
      "outputs": [
        {
          "output_type": "execute_result",
          "data": {
            "text/plain": [
              "SALES-POS     3934\n",
              "POS           3783\n",
              "PAYMENT       2600\n",
              "PAY/SALARY     883\n",
              "INTER BANK     742\n",
              "PHONE BANK     101\n",
              "Name: txn_description, dtype: int64"
            ]
          },
          "metadata": {
            "tags": []
          },
          "execution_count": 77
        }
      ]
    },
    {
      "cell_type": "code",
      "metadata": {
        "colab": {
          "base_uri": "https://localhost:8080/",
          "height": 359
        },
        "id": "g2FO_VgERTQc",
        "outputId": "1a8f5a67-8189-44d6-8da3-772181bbcb08"
      },
      "source": [
        "data.loc[data.txn_description == \"PAY/SALARY\", \"category\"] = \"Salary\"\n",
        "data.loc[(data.txn_description == \"SALES-POS\") | (data.txn_description == \"POS\"), \"category\"] = \"Purchase\"\n",
        "data.category.fillna(\"Others\", inplace=True) \n",
        "data[[\"txn_description\", \"category\"]].head(10)"
      ],
      "execution_count": 78,
      "outputs": [
        {
          "output_type": "execute_result",
          "data": {
            "text/html": [
              "<div>\n",
              "<style scoped>\n",
              "    .dataframe tbody tr th:only-of-type {\n",
              "        vertical-align: middle;\n",
              "    }\n",
              "\n",
              "    .dataframe tbody tr th {\n",
              "        vertical-align: top;\n",
              "    }\n",
              "\n",
              "    .dataframe thead th {\n",
              "        text-align: right;\n",
              "    }\n",
              "</style>\n",
              "<table border=\"1\" class=\"dataframe\">\n",
              "  <thead>\n",
              "    <tr style=\"text-align: right;\">\n",
              "      <th></th>\n",
              "      <th>txn_description</th>\n",
              "      <th>category</th>\n",
              "    </tr>\n",
              "  </thead>\n",
              "  <tbody>\n",
              "    <tr>\n",
              "      <th>0</th>\n",
              "      <td>POS</td>\n",
              "      <td>Purchase</td>\n",
              "    </tr>\n",
              "    <tr>\n",
              "      <th>1</th>\n",
              "      <td>SALES-POS</td>\n",
              "      <td>Purchase</td>\n",
              "    </tr>\n",
              "    <tr>\n",
              "      <th>2</th>\n",
              "      <td>POS</td>\n",
              "      <td>Purchase</td>\n",
              "    </tr>\n",
              "    <tr>\n",
              "      <th>3</th>\n",
              "      <td>SALES-POS</td>\n",
              "      <td>Purchase</td>\n",
              "    </tr>\n",
              "    <tr>\n",
              "      <th>4</th>\n",
              "      <td>SALES-POS</td>\n",
              "      <td>Purchase</td>\n",
              "    </tr>\n",
              "    <tr>\n",
              "      <th>5</th>\n",
              "      <td>PAYMENT</td>\n",
              "      <td>Others</td>\n",
              "    </tr>\n",
              "    <tr>\n",
              "      <th>6</th>\n",
              "      <td>SALES-POS</td>\n",
              "      <td>Purchase</td>\n",
              "    </tr>\n",
              "    <tr>\n",
              "      <th>7</th>\n",
              "      <td>POS</td>\n",
              "      <td>Purchase</td>\n",
              "    </tr>\n",
              "    <tr>\n",
              "      <th>8</th>\n",
              "      <td>POS</td>\n",
              "      <td>Purchase</td>\n",
              "    </tr>\n",
              "    <tr>\n",
              "      <th>9</th>\n",
              "      <td>INTER BANK</td>\n",
              "      <td>Others</td>\n",
              "    </tr>\n",
              "  </tbody>\n",
              "</table>\n",
              "</div>"
            ],
            "text/plain": [
              "  txn_description  category\n",
              "0             POS  Purchase\n",
              "1       SALES-POS  Purchase\n",
              "2             POS  Purchase\n",
              "3       SALES-POS  Purchase\n",
              "4       SALES-POS  Purchase\n",
              "5         PAYMENT    Others\n",
              "6       SALES-POS  Purchase\n",
              "7             POS  Purchase\n",
              "8             POS  Purchase\n",
              "9      INTER BANK    Others"
            ]
          },
          "metadata": {
            "tags": []
          },
          "execution_count": 78
        }
      ]
    },
    {
      "cell_type": "code",
      "metadata": {
        "colab": {
          "base_uri": "https://localhost:8080/",
          "height": 472
        },
        "id": "n7fk2dd2Rl_3",
        "outputId": "f4cc0d87-2029-4f31-b20c-98b496ee6698"
      },
      "source": [
        "stacked_barplot = pd.DataFrame(data.groupby([\"dayofweek\", \"category\"]).amount.count())\n",
        "stacked_barplot.unstack().plot(kind=\"bar\", stacked=True, figsize=(12,7))\n",
        "plt.title(\"Number of transactions each day by category\")\n",
        "plt.legend([\"Others\", \"Purchases\", \"Salaries\"])\n",
        "plt.xlabel(\"Day of Week\")\n",
        "plt.ylabel(\"Number of transactions\")"
      ],
      "execution_count": 79,
      "outputs": [
        {
          "output_type": "execute_result",
          "data": {
            "text/plain": [
              "Text(0, 0.5, 'Number of transactions')"
            ]
          },
          "metadata": {
            "tags": []
          },
          "execution_count": 79
        },
        {
          "output_type": "display_data",
          "data": {
            "image/png": "[encoded data removed]",
            "text/plain": [
              "<Figure size 864x504 with 1 Axes>"
            ]
          },
          "metadata": {
            "tags": [],
            "needs_background": "light"
          }
        }
      ]
    },
    {
      "cell_type": "code",
      "metadata": {
        "colab": {
          "base_uri": "https://localhost:8080/",
          "height": 235
        },
        "id": "5VwZ6hi_SAQ8",
        "outputId": "eded9b78-2362-4148-a691-6419d4b3072f"
      },
      "source": [
        "average_hourly_volume = pd.DataFrame(data.groupby(\"hour\").amount.mean())\n",
        "average_hourly_volume.head()"
      ],
      "execution_count": 80,
      "outputs": [
        {
          "output_type": "execute_result",
          "data": {
            "text/html": [
              "<div>\n",
              "<style scoped>\n",
              "    .dataframe tbody tr th:only-of-type {\n",
              "        vertical-align: middle;\n",
              "    }\n",
              "\n",
              "    .dataframe tbody tr th {\n",
              "        vertical-align: top;\n",
              "    }\n",
              "\n",
              "    .dataframe thead th {\n",
              "        text-align: right;\n",
              "    }\n",
              "</style>\n",
              "<table border=\"1\" class=\"dataframe\">\n",
              "  <thead>\n",
              "    <tr style=\"text-align: right;\">\n",
              "      <th></th>\n",
              "      <th>amount</th>\n",
              "    </tr>\n",
              "    <tr>\n",
              "      <th>hour</th>\n",
              "      <th></th>\n",
              "    </tr>\n",
              "  </thead>\n",
              "  <tbody>\n",
              "    <tr>\n",
              "      <th>0</th>\n",
              "      <td>28.274907</td>\n",
              "    </tr>\n",
              "    <tr>\n",
              "      <th>1</th>\n",
              "      <td>48.716402</td>\n",
              "    </tr>\n",
              "    <tr>\n",
              "      <th>2</th>\n",
              "      <td>75.269764</td>\n",
              "    </tr>\n",
              "    <tr>\n",
              "      <th>3</th>\n",
              "      <td>84.725918</td>\n",
              "    </tr>\n",
              "    <tr>\n",
              "      <th>4</th>\n",
              "      <td>61.301845</td>\n",
              "    </tr>\n",
              "  </tbody>\n",
              "</table>\n",
              "</div>"
            ],
            "text/plain": [
              "         amount\n",
              "hour           \n",
              "0     28.274907\n",
              "1     48.716402\n",
              "2     75.269764\n",
              "3     84.725918\n",
              "4     61.301845"
            ]
          },
          "metadata": {
            "tags": []
          },
          "execution_count": 80
        }
      ]
    },
    {
      "cell_type": "code",
      "metadata": {
        "colab": {
          "base_uri": "https://localhost:8080/",
          "height": 367
        },
        "id": "dKqCqVwISsqu",
        "outputId": "c9226f9d-53f0-48f3-b518-9522421e89f3"
      },
      "source": [
        "fig, ax = plt.subplots(figsize=(8,5))\n",
        "ax.plot(average_hourly_volume.index, average_hourly_volume.amount)\n",
        "plt.title(\"Average transaction volume per hour\")\n",
        "plt.xlabel(\"Hour\")\n",
        "plt.ylabel(\"Transaction volume\")\n",
        "# Peak at around midday and late afternoon"
      ],
      "execution_count": 81,
      "outputs": [
        {
          "output_type": "execute_result",
          "data": {
            "text/plain": [
              "Text(0, 0.5, 'Transaction volume')"
            ]
          },
          "metadata": {
            "tags": []
          },
          "execution_count": 81
        },
        {
          "output_type": "display_data",
          "data": {
            "image/png": "[encoded data removed]",
            "text/plain": [
              "<Figure size 576x360 with 1 Axes>"
            ]
          },
          "metadata": {
            "tags": [],
            "needs_background": "light"
          }
        }
      ]
    },
    {
      "cell_type": "code",
      "metadata": {
        "colab": {
          "base_uri": "https://localhost:8080/",
          "height": 478
        },
        "id": "JJQBkj4MS3hZ",
        "outputId": "4c0bf438-e719-46c1-9d85-1fdc66523346"
      },
      "source": [
        "stacked_barplot = pd.DataFrame(data.groupby([\"hour\", \"category\"]).amount.count())\n",
        "stacked_barplot.unstack().plot(kind=\"bar\", stacked=True, figsize=(12,7))\n",
        "plt.title(\"Number of transactions each hour by category\")\n",
        "plt.legend([\"Others\", \"Purchases\", \"Salaries\"])\n",
        "plt.xlabel(\"Hour\")\n",
        "plt.ylabel(\"Number of transactions\")"
      ],
      "execution_count": 82,
      "outputs": [
        {
          "output_type": "execute_result",
          "data": {
            "text/plain": [
              "Text(0, 0.5, 'Number of transactions')"
            ]
          },
          "metadata": {
            "tags": []
          },
          "execution_count": 82
        },
        {
          "output_type": "display_data",
          "data": {
            "image/png": "[encoded data removed]",
            "text/plain": [
              "<Figure size 864x504 with 1 Axes>"
            ]
          },
          "metadata": {
            "tags": [],
            "needs_background": "light"
          }
        }
      ]
    },
    {
      "cell_type": "code",
      "metadata": {
        "id": "6OS_LVdfTO2r"
      },
      "source": [
        "# https://medium.com/codex/properly-pickle-out-to-a-path-in-python-when-using-google-colab-741f0905e68b\n",
        "data.to_pickle(\"/content/drive/MyDrive/ANZ/data.pkl\")"
      ],
      "execution_count": 83,
      "outputs": []
    }
  ]
}